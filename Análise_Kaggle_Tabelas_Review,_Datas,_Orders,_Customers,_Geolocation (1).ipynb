{
  "nbformat": 4,
  "nbformat_minor": 0,
  "metadata": {
    "colab": {
      "name": "Análise Kaggle - Tabelas Review, Datas, Orders, Customers, Geolocation.ipynb",
      "provenance": []
    },
    "kernelspec": {
      "name": "python3",
      "display_name": "Python 3"
    }
  },
  "cells": [
    {
      "cell_type": "code",
      "metadata": {
        "id": "heM0hYwQbs0o",
        "colab_type": "code",
        "colab": {}
      },
      "source": [
        "#importando as bibliotecas\n",
        "import pandas as pd\n",
        "import numpy as np\n",
        "import seaborn as sns\n",
        "import matplotlib.pyplot as plt"
      ],
      "execution_count": 0,
      "outputs": []
    },
    {
      "cell_type": "code",
      "metadata": {
        "id": "4AiO_nr7cRzG",
        "colab_type": "code",
        "colab": {
          "base_uri": "https://localhost:8080/",
          "height": 71
        },
        "outputId": "e3963c1a-26be-4fec-d87a-3761b8e5e038"
      },
      "source": [
        "#importando as tabelas\n",
        "_time = pd.read_csv('olist_order_time.csv')\n",
        "_reviews = pd.read_csv('https://raw.githubusercontent.com/areznor/olistdataset/master/olist_order_reviews_dataset.csv')\n",
        "_orders = pd.read_csv('https://raw.githubusercontent.com/areznor/olistdataset/master/olist_orders_dataset.csv')\n",
        "_customers = pd.read_csv('https://raw.githubusercontent.com/areznor/olistdataset/master/olist_customers_dataset.csv')\n",
        "_geolocation = pd.read_csv('olist_geolocation_dataset.csv')"
      ],
      "execution_count": 4,
      "outputs": [
        {
          "output_type": "stream",
          "text": [
            "/usr/local/lib/python3.6/dist-packages/IPython/core/interactiveshell.py:2718: DtypeWarning: Columns (0,1,2,3,4,5,6,7,8,9,10,11,12,13,14,15) have mixed types. Specify dtype option on import or set low_memory=False.\n",
            "  interactivity=interactivity, compiler=compiler, result=result)\n"
          ],
          "name": "stderr"
        }
      ]
    },
    {
      "cell_type": "code",
      "metadata": {
        "id": "r5HsDNlwcR8d",
        "colab_type": "code",
        "colab": {
          "base_uri": "https://localhost:8080/",
          "height": 224
        },
        "outputId": "0c75e36d-e43e-446b-c423-d2837e23fbf9"
      },
      "source": [
        "_time.head()"
      ],
      "execution_count": 5,
      "outputs": [
        {
          "output_type": "execute_result",
          "data": {
            "text/html": [
              "<div>\n",
              "<style scoped>\n",
              "    .dataframe tbody tr th:only-of-type {\n",
              "        vertical-align: middle;\n",
              "    }\n",
              "\n",
              "    .dataframe tbody tr th {\n",
              "        vertical-align: top;\n",
              "    }\n",
              "\n",
              "    .dataframe thead th {\n",
              "        text-align: right;\n",
              "    }\n",
              "</style>\n",
              "<table border=\"1\" class=\"dataframe\">\n",
              "  <thead>\n",
              "    <tr style=\"text-align: right;\">\n",
              "      <th></th>\n",
              "      <th>order_id</th>\n",
              "      <th>customer_id</th>\n",
              "      <th>order_status</th>\n",
              "      <th>pedido_dia</th>\n",
              "      <th>pedido_aprovado_dia</th>\n",
              "      <th>entrega_pedido_dia</th>\n",
              "      <th>order_purchase_timestamp.1</th>\n",
              "      <th>order_approved_at.1</th>\n",
              "      <th>order_delivered_customer_date.1</th>\n",
              "      <th>order_delivered_carrier_date.1</th>\n",
              "      <th>order_estimated_delivery_date.1</th>\n",
              "      <th>tempo_aprovacao_pedido</th>\n",
              "      <th>tempo_estimativa_entrega</th>\n",
              "      <th>tempo_até_transportadora</th>\n",
              "      <th>tempo_total_entrega</th>\n",
              "      <th>diferença_estimativa_entrega</th>\n",
              "    </tr>\n",
              "  </thead>\n",
              "  <tbody>\n",
              "    <tr>\n",
              "      <th>0</th>\n",
              "      <td>00010242fe8c5a6d1ba2dd792cb16214</td>\n",
              "      <td>3ce436f183e68e07877b285a838db11a</td>\n",
              "      <td>delivered</td>\n",
              "      <td>quarta-feira</td>\n",
              "      <td>quarta-feira</td>\n",
              "      <td>quarta-feira</td>\n",
              "      <td>13/09/2017</td>\n",
              "      <td>13/09/2017</td>\n",
              "      <td>20/09/2017</td>\n",
              "      <td>19/09/2017</td>\n",
              "      <td>29/09/2017</td>\n",
              "      <td>0</td>\n",
              "      <td>16</td>\n",
              "      <td>6</td>\n",
              "      <td>7</td>\n",
              "      <td>-9</td>\n",
              "    </tr>\n",
              "    <tr>\n",
              "      <th>1</th>\n",
              "      <td>00018f77f2f0320c557190d7a144bdd3</td>\n",
              "      <td>f6dd3ec061db4e3987629fe6b26e5cce</td>\n",
              "      <td>delivered</td>\n",
              "      <td>quarta-feira</td>\n",
              "      <td>quarta-feira</td>\n",
              "      <td>sexta-feira</td>\n",
              "      <td>26/04/2017</td>\n",
              "      <td>26/04/2017</td>\n",
              "      <td>12/05/2017</td>\n",
              "      <td>04/05/2017</td>\n",
              "      <td>15/05/2017</td>\n",
              "      <td>0</td>\n",
              "      <td>19</td>\n",
              "      <td>8</td>\n",
              "      <td>16</td>\n",
              "      <td>-3</td>\n",
              "    </tr>\n",
              "    <tr>\n",
              "      <th>2</th>\n",
              "      <td>000229ec398224ef6ca0657da4fc703e</td>\n",
              "      <td>6489ae5e4333f3693df5ad4372dab6d3</td>\n",
              "      <td>delivered</td>\n",
              "      <td>domingo</td>\n",
              "      <td>domingo</td>\n",
              "      <td>segunda-feira</td>\n",
              "      <td>14/01/2018</td>\n",
              "      <td>14/01/2018</td>\n",
              "      <td>22/01/2018</td>\n",
              "      <td>16/01/2018</td>\n",
              "      <td>05/02/2018</td>\n",
              "      <td>0</td>\n",
              "      <td>22</td>\n",
              "      <td>2</td>\n",
              "      <td>8</td>\n",
              "      <td>-14</td>\n",
              "    </tr>\n",
              "    <tr>\n",
              "      <th>3</th>\n",
              "      <td>00024acbcdf0a6daa1e931b038114c75</td>\n",
              "      <td>d4eb9395c8c0431ee92fce09860c5a06</td>\n",
              "      <td>delivered</td>\n",
              "      <td>quarta-feira</td>\n",
              "      <td>quarta-feira</td>\n",
              "      <td>terça-feira</td>\n",
              "      <td>08/08/2018</td>\n",
              "      <td>08/08/2018</td>\n",
              "      <td>14/08/2018</td>\n",
              "      <td>10/08/2018</td>\n",
              "      <td>20/08/2018</td>\n",
              "      <td>0</td>\n",
              "      <td>12</td>\n",
              "      <td>2</td>\n",
              "      <td>6</td>\n",
              "      <td>-6</td>\n",
              "    </tr>\n",
              "    <tr>\n",
              "      <th>4</th>\n",
              "      <td>00042b26cf59d7ce69dfabb4e55b4fd9</td>\n",
              "      <td>58dbd0b2d70206bf40e62cd34e84d795</td>\n",
              "      <td>delivered</td>\n",
              "      <td>sábado</td>\n",
              "      <td>sábado</td>\n",
              "      <td>quarta-feira</td>\n",
              "      <td>04/02/2017</td>\n",
              "      <td>04/02/2017</td>\n",
              "      <td>01/03/2017</td>\n",
              "      <td>16/02/2017</td>\n",
              "      <td>17/03/2017</td>\n",
              "      <td>0</td>\n",
              "      <td>41</td>\n",
              "      <td>12</td>\n",
              "      <td>25</td>\n",
              "      <td>-16</td>\n",
              "    </tr>\n",
              "  </tbody>\n",
              "</table>\n",
              "</div>"
            ],
            "text/plain": [
              "                           order_id  ... diferença_estimativa_entrega\n",
              "0  00010242fe8c5a6d1ba2dd792cb16214  ...                           -9\n",
              "1  00018f77f2f0320c557190d7a144bdd3  ...                           -3\n",
              "2  000229ec398224ef6ca0657da4fc703e  ...                          -14\n",
              "3  00024acbcdf0a6daa1e931b038114c75  ...                           -6\n",
              "4  00042b26cf59d7ce69dfabb4e55b4fd9  ...                          -16\n",
              "\n",
              "[5 rows x 16 columns]"
            ]
          },
          "metadata": {
            "tags": []
          },
          "execution_count": 5
        }
      ]
    },
    {
      "cell_type": "code",
      "metadata": {
        "id": "aeUwcTkmcSFB",
        "colab_type": "code",
        "colab": {
          "base_uri": "https://localhost:8080/",
          "height": 204
        },
        "outputId": "5ccf2639-0730-4045-eaed-d04022da1f45"
      },
      "source": [
        "#verificando as colunas de Customer\n",
        "_customers.head()"
      ],
      "execution_count": 6,
      "outputs": [
        {
          "output_type": "execute_result",
          "data": {
            "text/html": [
              "<div>\n",
              "<style scoped>\n",
              "    .dataframe tbody tr th:only-of-type {\n",
              "        vertical-align: middle;\n",
              "    }\n",
              "\n",
              "    .dataframe tbody tr th {\n",
              "        vertical-align: top;\n",
              "    }\n",
              "\n",
              "    .dataframe thead th {\n",
              "        text-align: right;\n",
              "    }\n",
              "</style>\n",
              "<table border=\"1\" class=\"dataframe\">\n",
              "  <thead>\n",
              "    <tr style=\"text-align: right;\">\n",
              "      <th></th>\n",
              "      <th>customer_id</th>\n",
              "      <th>customer_unique_id</th>\n",
              "      <th>customer_zip_code_prefix</th>\n",
              "      <th>customer_city</th>\n",
              "      <th>customer_state</th>\n",
              "    </tr>\n",
              "  </thead>\n",
              "  <tbody>\n",
              "    <tr>\n",
              "      <th>0</th>\n",
              "      <td>06b8999e2fba1a1fbc88172c00ba8bc7</td>\n",
              "      <td>861eff4711a542e4b93843c6dd7febb0</td>\n",
              "      <td>14409</td>\n",
              "      <td>franca</td>\n",
              "      <td>SP</td>\n",
              "    </tr>\n",
              "    <tr>\n",
              "      <th>1</th>\n",
              "      <td>18955e83d337fd6b2def6b18a428ac77</td>\n",
              "      <td>290c77bc529b7ac935b93aa66c333dc3</td>\n",
              "      <td>9790</td>\n",
              "      <td>sao bernardo do campo</td>\n",
              "      <td>SP</td>\n",
              "    </tr>\n",
              "    <tr>\n",
              "      <th>2</th>\n",
              "      <td>4e7b3e00288586ebd08712fdd0374a03</td>\n",
              "      <td>060e732b5b29e8181a18229c7b0b2b5e</td>\n",
              "      <td>1151</td>\n",
              "      <td>sao paulo</td>\n",
              "      <td>SP</td>\n",
              "    </tr>\n",
              "    <tr>\n",
              "      <th>3</th>\n",
              "      <td>b2b6027bc5c5109e529d4dc6358b12c3</td>\n",
              "      <td>259dac757896d24d7702b9acbbff3f3c</td>\n",
              "      <td>8775</td>\n",
              "      <td>mogi das cruzes</td>\n",
              "      <td>SP</td>\n",
              "    </tr>\n",
              "    <tr>\n",
              "      <th>4</th>\n",
              "      <td>4f2d8ab171c80ec8364f7c12e35b23ad</td>\n",
              "      <td>345ecd01c38d18a9036ed96c73b8d066</td>\n",
              "      <td>13056</td>\n",
              "      <td>campinas</td>\n",
              "      <td>SP</td>\n",
              "    </tr>\n",
              "  </tbody>\n",
              "</table>\n",
              "</div>"
            ],
            "text/plain": [
              "                        customer_id  ... customer_state\n",
              "0  06b8999e2fba1a1fbc88172c00ba8bc7  ...             SP\n",
              "1  18955e83d337fd6b2def6b18a428ac77  ...             SP\n",
              "2  4e7b3e00288586ebd08712fdd0374a03  ...             SP\n",
              "3  b2b6027bc5c5109e529d4dc6358b12c3  ...             SP\n",
              "4  4f2d8ab171c80ec8364f7c12e35b23ad  ...             SP\n",
              "\n",
              "[5 rows x 5 columns]"
            ]
          },
          "metadata": {
            "tags": []
          },
          "execution_count": 6
        }
      ]
    },
    {
      "cell_type": "code",
      "metadata": {
        "id": "j0OsHjHPwfY3",
        "colab_type": "code",
        "colab": {
          "base_uri": "https://localhost:8080/",
          "height": 224
        },
        "outputId": "b80e985f-3c54-4483-88a5-a98483342b8e"
      },
      "source": [
        "#verificando as colunas de Orders\n",
        "_orders.head()"
      ],
      "execution_count": 7,
      "outputs": [
        {
          "output_type": "execute_result",
          "data": {
            "text/html": [
              "<div>\n",
              "<style scoped>\n",
              "    .dataframe tbody tr th:only-of-type {\n",
              "        vertical-align: middle;\n",
              "    }\n",
              "\n",
              "    .dataframe tbody tr th {\n",
              "        vertical-align: top;\n",
              "    }\n",
              "\n",
              "    .dataframe thead th {\n",
              "        text-align: right;\n",
              "    }\n",
              "</style>\n",
              "<table border=\"1\" class=\"dataframe\">\n",
              "  <thead>\n",
              "    <tr style=\"text-align: right;\">\n",
              "      <th></th>\n",
              "      <th>order_id</th>\n",
              "      <th>customer_id</th>\n",
              "      <th>order_status</th>\n",
              "      <th>order_purchase_timestamp</th>\n",
              "      <th>order_approved_at</th>\n",
              "      <th>order_delivered_carrier_date</th>\n",
              "      <th>order_delivered_customer_date</th>\n",
              "      <th>order_estimated_delivery_date</th>\n",
              "    </tr>\n",
              "  </thead>\n",
              "  <tbody>\n",
              "    <tr>\n",
              "      <th>0</th>\n",
              "      <td>e481f51cbdc54678b7cc49136f2d6af7</td>\n",
              "      <td>9ef432eb6251297304e76186b10a928d</td>\n",
              "      <td>delivered</td>\n",
              "      <td>2017-10-02 10:56:33</td>\n",
              "      <td>2017-10-02 11:07:15</td>\n",
              "      <td>2017-10-04 19:55:00</td>\n",
              "      <td>2017-10-10 21:25:13</td>\n",
              "      <td>2017-10-18 00:00:00</td>\n",
              "    </tr>\n",
              "    <tr>\n",
              "      <th>1</th>\n",
              "      <td>53cdb2fc8bc7dce0b6741e2150273451</td>\n",
              "      <td>b0830fb4747a6c6d20dea0b8c802d7ef</td>\n",
              "      <td>delivered</td>\n",
              "      <td>2018-07-24 20:41:37</td>\n",
              "      <td>2018-07-26 03:24:27</td>\n",
              "      <td>2018-07-26 14:31:00</td>\n",
              "      <td>2018-08-07 15:27:45</td>\n",
              "      <td>2018-08-13 00:00:00</td>\n",
              "    </tr>\n",
              "    <tr>\n",
              "      <th>2</th>\n",
              "      <td>47770eb9100c2d0c44946d9cf07ec65d</td>\n",
              "      <td>41ce2a54c0b03bf3443c3d931a367089</td>\n",
              "      <td>delivered</td>\n",
              "      <td>2018-08-08 08:38:49</td>\n",
              "      <td>2018-08-08 08:55:23</td>\n",
              "      <td>2018-08-08 13:50:00</td>\n",
              "      <td>2018-08-17 18:06:29</td>\n",
              "      <td>2018-09-04 00:00:00</td>\n",
              "    </tr>\n",
              "    <tr>\n",
              "      <th>3</th>\n",
              "      <td>949d5b44dbf5de918fe9c16f97b45f8a</td>\n",
              "      <td>f88197465ea7920adcdbec7375364d82</td>\n",
              "      <td>delivered</td>\n",
              "      <td>2017-11-18 19:28:06</td>\n",
              "      <td>2017-11-18 19:45:59</td>\n",
              "      <td>2017-11-22 13:39:59</td>\n",
              "      <td>2017-12-02 00:28:42</td>\n",
              "      <td>2017-12-15 00:00:00</td>\n",
              "    </tr>\n",
              "    <tr>\n",
              "      <th>4</th>\n",
              "      <td>ad21c59c0840e6cb83a9ceb5573f8159</td>\n",
              "      <td>8ab97904e6daea8866dbdbc4fb7aad2c</td>\n",
              "      <td>delivered</td>\n",
              "      <td>2018-02-13 21:18:39</td>\n",
              "      <td>2018-02-13 22:20:29</td>\n",
              "      <td>2018-02-14 19:46:34</td>\n",
              "      <td>2018-02-16 18:17:02</td>\n",
              "      <td>2018-02-26 00:00:00</td>\n",
              "    </tr>\n",
              "  </tbody>\n",
              "</table>\n",
              "</div>"
            ],
            "text/plain": [
              "                           order_id  ... order_estimated_delivery_date\n",
              "0  e481f51cbdc54678b7cc49136f2d6af7  ...           2017-10-18 00:00:00\n",
              "1  53cdb2fc8bc7dce0b6741e2150273451  ...           2018-08-13 00:00:00\n",
              "2  47770eb9100c2d0c44946d9cf07ec65d  ...           2018-09-04 00:00:00\n",
              "3  949d5b44dbf5de918fe9c16f97b45f8a  ...           2017-12-15 00:00:00\n",
              "4  ad21c59c0840e6cb83a9ceb5573f8159  ...           2018-02-26 00:00:00\n",
              "\n",
              "[5 rows x 8 columns]"
            ]
          },
          "metadata": {
            "tags": []
          },
          "execution_count": 7
        }
      ]
    },
    {
      "cell_type": "code",
      "metadata": {
        "id": "m9IBA44qcSNp",
        "colab_type": "code",
        "colab": {}
      },
      "source": [
        "#unindo as tabelas Customers e Orders por meio da coluna do \"customer_id\"\n",
        "_merge1 = pd.merge(_customers, _orders, left_on='customer_id', right_on='customer_id', how='inner')"
      ],
      "execution_count": 0,
      "outputs": []
    },
    {
      "cell_type": "code",
      "metadata": {
        "id": "BMxTBELXwxg4",
        "colab_type": "code",
        "colab": {
          "base_uri": "https://localhost:8080/",
          "height": 258
        },
        "outputId": "8619b6c4-d984-425c-ee4f-0ff194090cd2"
      },
      "source": [
        "#verificando a junção de Customers e Orders\n",
        "_merge1.head()"
      ],
      "execution_count": 9,
      "outputs": [
        {
          "output_type": "execute_result",
          "data": {
            "text/html": [
              "<div>\n",
              "<style scoped>\n",
              "    .dataframe tbody tr th:only-of-type {\n",
              "        vertical-align: middle;\n",
              "    }\n",
              "\n",
              "    .dataframe tbody tr th {\n",
              "        vertical-align: top;\n",
              "    }\n",
              "\n",
              "    .dataframe thead th {\n",
              "        text-align: right;\n",
              "    }\n",
              "</style>\n",
              "<table border=\"1\" class=\"dataframe\">\n",
              "  <thead>\n",
              "    <tr style=\"text-align: right;\">\n",
              "      <th></th>\n",
              "      <th>customer_id</th>\n",
              "      <th>customer_unique_id</th>\n",
              "      <th>customer_zip_code_prefix</th>\n",
              "      <th>customer_city</th>\n",
              "      <th>customer_state</th>\n",
              "      <th>order_id</th>\n",
              "      <th>order_status</th>\n",
              "      <th>order_purchase_timestamp</th>\n",
              "      <th>order_approved_at</th>\n",
              "      <th>order_delivered_carrier_date</th>\n",
              "      <th>order_delivered_customer_date</th>\n",
              "      <th>order_estimated_delivery_date</th>\n",
              "    </tr>\n",
              "  </thead>\n",
              "  <tbody>\n",
              "    <tr>\n",
              "      <th>0</th>\n",
              "      <td>06b8999e2fba1a1fbc88172c00ba8bc7</td>\n",
              "      <td>861eff4711a542e4b93843c6dd7febb0</td>\n",
              "      <td>14409</td>\n",
              "      <td>franca</td>\n",
              "      <td>SP</td>\n",
              "      <td>00e7ee1b050b8499577073aeb2a297a1</td>\n",
              "      <td>delivered</td>\n",
              "      <td>2017-05-16 15:05:35</td>\n",
              "      <td>2017-05-16 15:22:12</td>\n",
              "      <td>2017-05-23 10:47:57</td>\n",
              "      <td>2017-05-25 10:35:35</td>\n",
              "      <td>2017-06-05 00:00:00</td>\n",
              "    </tr>\n",
              "    <tr>\n",
              "      <th>1</th>\n",
              "      <td>18955e83d337fd6b2def6b18a428ac77</td>\n",
              "      <td>290c77bc529b7ac935b93aa66c333dc3</td>\n",
              "      <td>9790</td>\n",
              "      <td>sao bernardo do campo</td>\n",
              "      <td>SP</td>\n",
              "      <td>29150127e6685892b6eab3eec79f59c7</td>\n",
              "      <td>delivered</td>\n",
              "      <td>2018-01-12 20:48:24</td>\n",
              "      <td>2018-01-12 20:58:32</td>\n",
              "      <td>2018-01-15 17:14:59</td>\n",
              "      <td>2018-01-29 12:41:19</td>\n",
              "      <td>2018-02-06 00:00:00</td>\n",
              "    </tr>\n",
              "    <tr>\n",
              "      <th>2</th>\n",
              "      <td>4e7b3e00288586ebd08712fdd0374a03</td>\n",
              "      <td>060e732b5b29e8181a18229c7b0b2b5e</td>\n",
              "      <td>1151</td>\n",
              "      <td>sao paulo</td>\n",
              "      <td>SP</td>\n",
              "      <td>b2059ed67ce144a36e2aa97d2c9e9ad2</td>\n",
              "      <td>delivered</td>\n",
              "      <td>2018-05-19 16:07:45</td>\n",
              "      <td>2018-05-20 16:19:10</td>\n",
              "      <td>2018-06-11 14:31:00</td>\n",
              "      <td>2018-06-14 17:58:51</td>\n",
              "      <td>2018-06-13 00:00:00</td>\n",
              "    </tr>\n",
              "    <tr>\n",
              "      <th>3</th>\n",
              "      <td>b2b6027bc5c5109e529d4dc6358b12c3</td>\n",
              "      <td>259dac757896d24d7702b9acbbff3f3c</td>\n",
              "      <td>8775</td>\n",
              "      <td>mogi das cruzes</td>\n",
              "      <td>SP</td>\n",
              "      <td>951670f92359f4fe4a63112aa7306eba</td>\n",
              "      <td>delivered</td>\n",
              "      <td>2018-03-13 16:06:38</td>\n",
              "      <td>2018-03-13 17:29:19</td>\n",
              "      <td>2018-03-27 23:22:42</td>\n",
              "      <td>2018-03-28 16:04:25</td>\n",
              "      <td>2018-04-10 00:00:00</td>\n",
              "    </tr>\n",
              "    <tr>\n",
              "      <th>4</th>\n",
              "      <td>4f2d8ab171c80ec8364f7c12e35b23ad</td>\n",
              "      <td>345ecd01c38d18a9036ed96c73b8d066</td>\n",
              "      <td>13056</td>\n",
              "      <td>campinas</td>\n",
              "      <td>SP</td>\n",
              "      <td>6b7d50bd145f6fc7f33cebabd7e49d0f</td>\n",
              "      <td>delivered</td>\n",
              "      <td>2018-07-29 09:51:30</td>\n",
              "      <td>2018-07-29 10:10:09</td>\n",
              "      <td>2018-07-30 15:16:00</td>\n",
              "      <td>2018-08-09 20:55:48</td>\n",
              "      <td>2018-08-15 00:00:00</td>\n",
              "    </tr>\n",
              "  </tbody>\n",
              "</table>\n",
              "</div>"
            ],
            "text/plain": [
              "                        customer_id  ... order_estimated_delivery_date\n",
              "0  06b8999e2fba1a1fbc88172c00ba8bc7  ...           2017-06-05 00:00:00\n",
              "1  18955e83d337fd6b2def6b18a428ac77  ...           2018-02-06 00:00:00\n",
              "2  4e7b3e00288586ebd08712fdd0374a03  ...           2018-06-13 00:00:00\n",
              "3  b2b6027bc5c5109e529d4dc6358b12c3  ...           2018-04-10 00:00:00\n",
              "4  4f2d8ab171c80ec8364f7c12e35b23ad  ...           2018-08-15 00:00:00\n",
              "\n",
              "[5 rows x 12 columns]"
            ]
          },
          "metadata": {
            "tags": []
          },
          "execution_count": 9
        }
      ]
    },
    {
      "cell_type": "code",
      "metadata": {
        "id": "F_xgfWE-55P1",
        "colab_type": "code",
        "colab": {
          "base_uri": "https://localhost:8080/",
          "height": 238
        },
        "outputId": "42103db3-a03d-4595-a260-064f3e30a99a"
      },
      "source": [
        "def count_unique(_merge1):\n",
        "  print(\"Quantidade de valores únicos em _merge1\")\n",
        "  for i in _merge1.columns:\n",
        "    print(f\"{i}: {_merge1[i].nunique()}\")\n",
        "\n",
        "count_unique(_merge1)"
      ],
      "execution_count": 10,
      "outputs": [
        {
          "output_type": "stream",
          "text": [
            "Quantidade de valores únicos em _merge1\n",
            "customer_id: 99441\n",
            "customer_unique_id: 96096\n",
            "customer_zip_code_prefix: 14994\n",
            "customer_city: 4119\n",
            "customer_state: 27\n",
            "order_id: 99441\n",
            "order_status: 8\n",
            "order_purchase_timestamp: 98875\n",
            "order_approved_at: 90733\n",
            "order_delivered_carrier_date: 81018\n",
            "order_delivered_customer_date: 95664\n",
            "order_estimated_delivery_date: 459\n"
          ],
          "name": "stdout"
        }
      ]
    },
    {
      "cell_type": "code",
      "metadata": {
        "id": "fgo0fteJ6Gvj",
        "colab_type": "code",
        "colab": {
          "base_uri": "https://localhost:8080/",
          "height": 204
        },
        "outputId": "8d91d5e9-0430-49b5-c2aa-c26a95367984"
      },
      "source": [
        "columns_merge1 = ['customer_unique_id', 'order_purchase_timestamp', 'order_approved_at', 'order_delivered_carrier_date', 'order_delivered_customer_date', 'order_estimated_delivery_date']\n",
        "df_merge1 = _merge1.drop(columns_merge1, axis = 1)\n",
        "df_merge1.head()"
      ],
      "execution_count": 11,
      "outputs": [
        {
          "output_type": "execute_result",
          "data": {
            "text/html": [
              "<div>\n",
              "<style scoped>\n",
              "    .dataframe tbody tr th:only-of-type {\n",
              "        vertical-align: middle;\n",
              "    }\n",
              "\n",
              "    .dataframe tbody tr th {\n",
              "        vertical-align: top;\n",
              "    }\n",
              "\n",
              "    .dataframe thead th {\n",
              "        text-align: right;\n",
              "    }\n",
              "</style>\n",
              "<table border=\"1\" class=\"dataframe\">\n",
              "  <thead>\n",
              "    <tr style=\"text-align: right;\">\n",
              "      <th></th>\n",
              "      <th>customer_id</th>\n",
              "      <th>customer_zip_code_prefix</th>\n",
              "      <th>customer_city</th>\n",
              "      <th>customer_state</th>\n",
              "      <th>order_id</th>\n",
              "      <th>order_status</th>\n",
              "    </tr>\n",
              "  </thead>\n",
              "  <tbody>\n",
              "    <tr>\n",
              "      <th>0</th>\n",
              "      <td>06b8999e2fba1a1fbc88172c00ba8bc7</td>\n",
              "      <td>14409</td>\n",
              "      <td>franca</td>\n",
              "      <td>SP</td>\n",
              "      <td>00e7ee1b050b8499577073aeb2a297a1</td>\n",
              "      <td>delivered</td>\n",
              "    </tr>\n",
              "    <tr>\n",
              "      <th>1</th>\n",
              "      <td>18955e83d337fd6b2def6b18a428ac77</td>\n",
              "      <td>9790</td>\n",
              "      <td>sao bernardo do campo</td>\n",
              "      <td>SP</td>\n",
              "      <td>29150127e6685892b6eab3eec79f59c7</td>\n",
              "      <td>delivered</td>\n",
              "    </tr>\n",
              "    <tr>\n",
              "      <th>2</th>\n",
              "      <td>4e7b3e00288586ebd08712fdd0374a03</td>\n",
              "      <td>1151</td>\n",
              "      <td>sao paulo</td>\n",
              "      <td>SP</td>\n",
              "      <td>b2059ed67ce144a36e2aa97d2c9e9ad2</td>\n",
              "      <td>delivered</td>\n",
              "    </tr>\n",
              "    <tr>\n",
              "      <th>3</th>\n",
              "      <td>b2b6027bc5c5109e529d4dc6358b12c3</td>\n",
              "      <td>8775</td>\n",
              "      <td>mogi das cruzes</td>\n",
              "      <td>SP</td>\n",
              "      <td>951670f92359f4fe4a63112aa7306eba</td>\n",
              "      <td>delivered</td>\n",
              "    </tr>\n",
              "    <tr>\n",
              "      <th>4</th>\n",
              "      <td>4f2d8ab171c80ec8364f7c12e35b23ad</td>\n",
              "      <td>13056</td>\n",
              "      <td>campinas</td>\n",
              "      <td>SP</td>\n",
              "      <td>6b7d50bd145f6fc7f33cebabd7e49d0f</td>\n",
              "      <td>delivered</td>\n",
              "    </tr>\n",
              "  </tbody>\n",
              "</table>\n",
              "</div>"
            ],
            "text/plain": [
              "                        customer_id  ...  order_status\n",
              "0  06b8999e2fba1a1fbc88172c00ba8bc7  ...     delivered\n",
              "1  18955e83d337fd6b2def6b18a428ac77  ...     delivered\n",
              "2  4e7b3e00288586ebd08712fdd0374a03  ...     delivered\n",
              "3  b2b6027bc5c5109e529d4dc6358b12c3  ...     delivered\n",
              "4  4f2d8ab171c80ec8364f7c12e35b23ad  ...     delivered\n",
              "\n",
              "[5 rows x 6 columns]"
            ]
          },
          "metadata": {
            "tags": []
          },
          "execution_count": 11
        }
      ]
    },
    {
      "cell_type": "code",
      "metadata": {
        "id": "0kJftXYfxFF7",
        "colab_type": "code",
        "colab": {
          "base_uri": "https://localhost:8080/",
          "height": 221
        },
        "outputId": "61608492-e69a-4b3a-c1a9-7e7a0cf4c607"
      },
      "source": [
        "#verificando as colunas de Reviews\n",
        "_reviews.head()"
      ],
      "execution_count": 12,
      "outputs": [
        {
          "output_type": "execute_result",
          "data": {
            "text/html": [
              "<div>\n",
              "<style scoped>\n",
              "    .dataframe tbody tr th:only-of-type {\n",
              "        vertical-align: middle;\n",
              "    }\n",
              "\n",
              "    .dataframe tbody tr th {\n",
              "        vertical-align: top;\n",
              "    }\n",
              "\n",
              "    .dataframe thead th {\n",
              "        text-align: right;\n",
              "    }\n",
              "</style>\n",
              "<table border=\"1\" class=\"dataframe\">\n",
              "  <thead>\n",
              "    <tr style=\"text-align: right;\">\n",
              "      <th></th>\n",
              "      <th>review_id</th>\n",
              "      <th>order_id</th>\n",
              "      <th>review_score</th>\n",
              "      <th>review_comment_title</th>\n",
              "      <th>review_comment_message</th>\n",
              "      <th>review_creation_date</th>\n",
              "      <th>review_answer_timestamp</th>\n",
              "    </tr>\n",
              "  </thead>\n",
              "  <tbody>\n",
              "    <tr>\n",
              "      <th>0</th>\n",
              "      <td>7bc2406110b926393aa56f80a40eba40</td>\n",
              "      <td>73fc7af87114b39712e6da79b0a377eb</td>\n",
              "      <td>4</td>\n",
              "      <td>NaN</td>\n",
              "      <td>NaN</td>\n",
              "      <td>2018-01-18 00:00:00</td>\n",
              "      <td>2018-01-18 21:46:59</td>\n",
              "    </tr>\n",
              "    <tr>\n",
              "      <th>1</th>\n",
              "      <td>80e641a11e56f04c1ad469d5645fdfde</td>\n",
              "      <td>a548910a1c6147796b98fdf73dbeba33</td>\n",
              "      <td>5</td>\n",
              "      <td>NaN</td>\n",
              "      <td>NaN</td>\n",
              "      <td>2018-03-10 00:00:00</td>\n",
              "      <td>2018-03-11 03:05:13</td>\n",
              "    </tr>\n",
              "    <tr>\n",
              "      <th>2</th>\n",
              "      <td>228ce5500dc1d8e020d8d1322874b6f0</td>\n",
              "      <td>f9e4b658b201a9f2ecdecbb34bed034b</td>\n",
              "      <td>5</td>\n",
              "      <td>NaN</td>\n",
              "      <td>NaN</td>\n",
              "      <td>2018-02-17 00:00:00</td>\n",
              "      <td>2018-02-18 14:36:24</td>\n",
              "    </tr>\n",
              "    <tr>\n",
              "      <th>3</th>\n",
              "      <td>e64fb393e7b32834bb789ff8bb30750e</td>\n",
              "      <td>658677c97b385a9be170737859d3511b</td>\n",
              "      <td>5</td>\n",
              "      <td>NaN</td>\n",
              "      <td>Recebi bem antes do prazo estipulado.</td>\n",
              "      <td>2017-04-21 00:00:00</td>\n",
              "      <td>2017-04-21 22:02:06</td>\n",
              "    </tr>\n",
              "    <tr>\n",
              "      <th>4</th>\n",
              "      <td>f7c4243c7fe1938f181bec41a392bdeb</td>\n",
              "      <td>8e6bfb81e283fa7e4f11123a3fb894f1</td>\n",
              "      <td>5</td>\n",
              "      <td>NaN</td>\n",
              "      <td>Parabéns lojas lannister adorei comprar pela I...</td>\n",
              "      <td>2018-03-01 00:00:00</td>\n",
              "      <td>2018-03-02 10:26:53</td>\n",
              "    </tr>\n",
              "  </tbody>\n",
              "</table>\n",
              "</div>"
            ],
            "text/plain": [
              "                          review_id  ... review_answer_timestamp\n",
              "0  7bc2406110b926393aa56f80a40eba40  ...     2018-01-18 21:46:59\n",
              "1  80e641a11e56f04c1ad469d5645fdfde  ...     2018-03-11 03:05:13\n",
              "2  228ce5500dc1d8e020d8d1322874b6f0  ...     2018-02-18 14:36:24\n",
              "3  e64fb393e7b32834bb789ff8bb30750e  ...     2017-04-21 22:02:06\n",
              "4  f7c4243c7fe1938f181bec41a392bdeb  ...     2018-03-02 10:26:53\n",
              "\n",
              "[5 rows x 7 columns]"
            ]
          },
          "metadata": {
            "tags": []
          },
          "execution_count": 12
        }
      ]
    },
    {
      "cell_type": "code",
      "metadata": {
        "id": "uW0en1wrxFVx",
        "colab_type": "code",
        "colab": {
          "base_uri": "https://localhost:8080/",
          "height": 153
        },
        "outputId": "8b28ee28-ebff-4287-d9cb-9c307782e6e8"
      },
      "source": [
        "#contando os valores únicos da tabela Reviews\n",
        "def count_unique(_reviews):\n",
        "  print(\"Quantidade de valores únicos\")\n",
        "  for i in _reviews.columns:\n",
        "    print(f\"{i}: {_reviews[i].nunique()}\")\n",
        "\n",
        "count_unique(_reviews)"
      ],
      "execution_count": 13,
      "outputs": [
        {
          "output_type": "stream",
          "text": [
            "Quantidade de valores únicos\n",
            "review_id: 99173\n",
            "order_id: 99441\n",
            "review_score: 5\n",
            "review_comment_title: 4600\n",
            "review_comment_message: 36921\n",
            "review_creation_date: 637\n",
            "review_answer_timestamp: 99010\n"
          ],
          "name": "stdout"
        }
      ]
    },
    {
      "cell_type": "code",
      "metadata": {
        "id": "VWPN19OgxFdY",
        "colab_type": "code",
        "colab": {
          "base_uri": "https://localhost:8080/",
          "height": 204
        },
        "outputId": "7d41ad60-4128-4216-d97c-5e37fc490779"
      },
      "source": [
        "#removendo colunas com valores únicos e que não serão necessários da tabela Reviews\n",
        "columns_rev = ['review_comment_title', 'review_comment_message', 'review_creation_date', 'review_answer_timestamp']\n",
        "df_reviews = _reviews.drop(columns_rev, axis = 1)\n",
        "df_reviews.head()"
      ],
      "execution_count": 14,
      "outputs": [
        {
          "output_type": "execute_result",
          "data": {
            "text/html": [
              "<div>\n",
              "<style scoped>\n",
              "    .dataframe tbody tr th:only-of-type {\n",
              "        vertical-align: middle;\n",
              "    }\n",
              "\n",
              "    .dataframe tbody tr th {\n",
              "        vertical-align: top;\n",
              "    }\n",
              "\n",
              "    .dataframe thead th {\n",
              "        text-align: right;\n",
              "    }\n",
              "</style>\n",
              "<table border=\"1\" class=\"dataframe\">\n",
              "  <thead>\n",
              "    <tr style=\"text-align: right;\">\n",
              "      <th></th>\n",
              "      <th>review_id</th>\n",
              "      <th>order_id</th>\n",
              "      <th>review_score</th>\n",
              "    </tr>\n",
              "  </thead>\n",
              "  <tbody>\n",
              "    <tr>\n",
              "      <th>0</th>\n",
              "      <td>7bc2406110b926393aa56f80a40eba40</td>\n",
              "      <td>73fc7af87114b39712e6da79b0a377eb</td>\n",
              "      <td>4</td>\n",
              "    </tr>\n",
              "    <tr>\n",
              "      <th>1</th>\n",
              "      <td>80e641a11e56f04c1ad469d5645fdfde</td>\n",
              "      <td>a548910a1c6147796b98fdf73dbeba33</td>\n",
              "      <td>5</td>\n",
              "    </tr>\n",
              "    <tr>\n",
              "      <th>2</th>\n",
              "      <td>228ce5500dc1d8e020d8d1322874b6f0</td>\n",
              "      <td>f9e4b658b201a9f2ecdecbb34bed034b</td>\n",
              "      <td>5</td>\n",
              "    </tr>\n",
              "    <tr>\n",
              "      <th>3</th>\n",
              "      <td>e64fb393e7b32834bb789ff8bb30750e</td>\n",
              "      <td>658677c97b385a9be170737859d3511b</td>\n",
              "      <td>5</td>\n",
              "    </tr>\n",
              "    <tr>\n",
              "      <th>4</th>\n",
              "      <td>f7c4243c7fe1938f181bec41a392bdeb</td>\n",
              "      <td>8e6bfb81e283fa7e4f11123a3fb894f1</td>\n",
              "      <td>5</td>\n",
              "    </tr>\n",
              "  </tbody>\n",
              "</table>\n",
              "</div>"
            ],
            "text/plain": [
              "                          review_id  ... review_score\n",
              "0  7bc2406110b926393aa56f80a40eba40  ...            4\n",
              "1  80e641a11e56f04c1ad469d5645fdfde  ...            5\n",
              "2  228ce5500dc1d8e020d8d1322874b6f0  ...            5\n",
              "3  e64fb393e7b32834bb789ff8bb30750e  ...            5\n",
              "4  f7c4243c7fe1938f181bec41a392bdeb  ...            5\n",
              "\n",
              "[5 rows x 3 columns]"
            ]
          },
          "metadata": {
            "tags": []
          },
          "execution_count": 14
        }
      ]
    },
    {
      "cell_type": "code",
      "metadata": {
        "id": "_Pd3kIPBxFkI",
        "colab_type": "code",
        "colab": {
          "base_uri": "https://localhost:8080/",
          "height": 258
        },
        "outputId": "91441401-038d-424f-f3ac-ff36194b92b3"
      },
      "source": [
        "#unindo as tabelas de Customer, Orders e Reviews\n",
        "_merge2 = pd.merge(df_merge1, df_reviews, left_on='order_id', right_on='order_id', how='inner')\n",
        "_merge2.head()"
      ],
      "execution_count": 15,
      "outputs": [
        {
          "output_type": "execute_result",
          "data": {
            "text/html": [
              "<div>\n",
              "<style scoped>\n",
              "    .dataframe tbody tr th:only-of-type {\n",
              "        vertical-align: middle;\n",
              "    }\n",
              "\n",
              "    .dataframe tbody tr th {\n",
              "        vertical-align: top;\n",
              "    }\n",
              "\n",
              "    .dataframe thead th {\n",
              "        text-align: right;\n",
              "    }\n",
              "</style>\n",
              "<table border=\"1\" class=\"dataframe\">\n",
              "  <thead>\n",
              "    <tr style=\"text-align: right;\">\n",
              "      <th></th>\n",
              "      <th>customer_id</th>\n",
              "      <th>customer_zip_code_prefix</th>\n",
              "      <th>customer_city</th>\n",
              "      <th>customer_state</th>\n",
              "      <th>order_id</th>\n",
              "      <th>order_status</th>\n",
              "      <th>review_id</th>\n",
              "      <th>review_score</th>\n",
              "    </tr>\n",
              "  </thead>\n",
              "  <tbody>\n",
              "    <tr>\n",
              "      <th>0</th>\n",
              "      <td>06b8999e2fba1a1fbc88172c00ba8bc7</td>\n",
              "      <td>14409</td>\n",
              "      <td>franca</td>\n",
              "      <td>SP</td>\n",
              "      <td>00e7ee1b050b8499577073aeb2a297a1</td>\n",
              "      <td>delivered</td>\n",
              "      <td>88b8b52d46df026a9d1ad2136a59b30b</td>\n",
              "      <td>4</td>\n",
              "    </tr>\n",
              "    <tr>\n",
              "      <th>1</th>\n",
              "      <td>18955e83d337fd6b2def6b18a428ac77</td>\n",
              "      <td>9790</td>\n",
              "      <td>sao bernardo do campo</td>\n",
              "      <td>SP</td>\n",
              "      <td>29150127e6685892b6eab3eec79f59c7</td>\n",
              "      <td>delivered</td>\n",
              "      <td>02fc48a9efa3e3d0f1a8ea26507eeec3</td>\n",
              "      <td>5</td>\n",
              "    </tr>\n",
              "    <tr>\n",
              "      <th>2</th>\n",
              "      <td>4e7b3e00288586ebd08712fdd0374a03</td>\n",
              "      <td>1151</td>\n",
              "      <td>sao paulo</td>\n",
              "      <td>SP</td>\n",
              "      <td>b2059ed67ce144a36e2aa97d2c9e9ad2</td>\n",
              "      <td>delivered</td>\n",
              "      <td>5ad6695d76ee186dc473c42706984d87</td>\n",
              "      <td>5</td>\n",
              "    </tr>\n",
              "    <tr>\n",
              "      <th>3</th>\n",
              "      <td>b2b6027bc5c5109e529d4dc6358b12c3</td>\n",
              "      <td>8775</td>\n",
              "      <td>mogi das cruzes</td>\n",
              "      <td>SP</td>\n",
              "      <td>951670f92359f4fe4a63112aa7306eba</td>\n",
              "      <td>delivered</td>\n",
              "      <td>059a801bb31f6aab2266e672cab87bc5</td>\n",
              "      <td>5</td>\n",
              "    </tr>\n",
              "    <tr>\n",
              "      <th>4</th>\n",
              "      <td>4f2d8ab171c80ec8364f7c12e35b23ad</td>\n",
              "      <td>13056</td>\n",
              "      <td>campinas</td>\n",
              "      <td>SP</td>\n",
              "      <td>6b7d50bd145f6fc7f33cebabd7e49d0f</td>\n",
              "      <td>delivered</td>\n",
              "      <td>8490879d58d6c5d7773f2739a03f089a</td>\n",
              "      <td>5</td>\n",
              "    </tr>\n",
              "  </tbody>\n",
              "</table>\n",
              "</div>"
            ],
            "text/plain": [
              "                        customer_id  ...  review_score\n",
              "0  06b8999e2fba1a1fbc88172c00ba8bc7  ...             4\n",
              "1  18955e83d337fd6b2def6b18a428ac77  ...             5\n",
              "2  4e7b3e00288586ebd08712fdd0374a03  ...             5\n",
              "3  b2b6027bc5c5109e529d4dc6358b12c3  ...             5\n",
              "4  4f2d8ab171c80ec8364f7c12e35b23ad  ...             5\n",
              "\n",
              "[5 rows x 8 columns]"
            ]
          },
          "metadata": {
            "tags": []
          },
          "execution_count": 15
        }
      ]
    },
    {
      "cell_type": "code",
      "metadata": {
        "id": "UwoWXAGsxFrf",
        "colab_type": "code",
        "colab": {
          "base_uri": "https://localhost:8080/",
          "height": 224
        },
        "outputId": "ff648cc8-f8c6-45b0-c16f-de7a285c8981"
      },
      "source": [
        "_time.head()"
      ],
      "execution_count": 16,
      "outputs": [
        {
          "output_type": "execute_result",
          "data": {
            "text/html": [
              "<div>\n",
              "<style scoped>\n",
              "    .dataframe tbody tr th:only-of-type {\n",
              "        vertical-align: middle;\n",
              "    }\n",
              "\n",
              "    .dataframe tbody tr th {\n",
              "        vertical-align: top;\n",
              "    }\n",
              "\n",
              "    .dataframe thead th {\n",
              "        text-align: right;\n",
              "    }\n",
              "</style>\n",
              "<table border=\"1\" class=\"dataframe\">\n",
              "  <thead>\n",
              "    <tr style=\"text-align: right;\">\n",
              "      <th></th>\n",
              "      <th>order_id</th>\n",
              "      <th>customer_id</th>\n",
              "      <th>order_status</th>\n",
              "      <th>pedido_dia</th>\n",
              "      <th>pedido_aprovado_dia</th>\n",
              "      <th>entrega_pedido_dia</th>\n",
              "      <th>order_purchase_timestamp.1</th>\n",
              "      <th>order_approved_at.1</th>\n",
              "      <th>order_delivered_customer_date.1</th>\n",
              "      <th>order_delivered_carrier_date.1</th>\n",
              "      <th>order_estimated_delivery_date.1</th>\n",
              "      <th>tempo_aprovacao_pedido</th>\n",
              "      <th>tempo_estimativa_entrega</th>\n",
              "      <th>tempo_até_transportadora</th>\n",
              "      <th>tempo_total_entrega</th>\n",
              "      <th>diferença_estimativa_entrega</th>\n",
              "    </tr>\n",
              "  </thead>\n",
              "  <tbody>\n",
              "    <tr>\n",
              "      <th>0</th>\n",
              "      <td>00010242fe8c5a6d1ba2dd792cb16214</td>\n",
              "      <td>3ce436f183e68e07877b285a838db11a</td>\n",
              "      <td>delivered</td>\n",
              "      <td>quarta-feira</td>\n",
              "      <td>quarta-feira</td>\n",
              "      <td>quarta-feira</td>\n",
              "      <td>13/09/2017</td>\n",
              "      <td>13/09/2017</td>\n",
              "      <td>20/09/2017</td>\n",
              "      <td>19/09/2017</td>\n",
              "      <td>29/09/2017</td>\n",
              "      <td>0</td>\n",
              "      <td>16</td>\n",
              "      <td>6</td>\n",
              "      <td>7</td>\n",
              "      <td>-9</td>\n",
              "    </tr>\n",
              "    <tr>\n",
              "      <th>1</th>\n",
              "      <td>00018f77f2f0320c557190d7a144bdd3</td>\n",
              "      <td>f6dd3ec061db4e3987629fe6b26e5cce</td>\n",
              "      <td>delivered</td>\n",
              "      <td>quarta-feira</td>\n",
              "      <td>quarta-feira</td>\n",
              "      <td>sexta-feira</td>\n",
              "      <td>26/04/2017</td>\n",
              "      <td>26/04/2017</td>\n",
              "      <td>12/05/2017</td>\n",
              "      <td>04/05/2017</td>\n",
              "      <td>15/05/2017</td>\n",
              "      <td>0</td>\n",
              "      <td>19</td>\n",
              "      <td>8</td>\n",
              "      <td>16</td>\n",
              "      <td>-3</td>\n",
              "    </tr>\n",
              "    <tr>\n",
              "      <th>2</th>\n",
              "      <td>000229ec398224ef6ca0657da4fc703e</td>\n",
              "      <td>6489ae5e4333f3693df5ad4372dab6d3</td>\n",
              "      <td>delivered</td>\n",
              "      <td>domingo</td>\n",
              "      <td>domingo</td>\n",
              "      <td>segunda-feira</td>\n",
              "      <td>14/01/2018</td>\n",
              "      <td>14/01/2018</td>\n",
              "      <td>22/01/2018</td>\n",
              "      <td>16/01/2018</td>\n",
              "      <td>05/02/2018</td>\n",
              "      <td>0</td>\n",
              "      <td>22</td>\n",
              "      <td>2</td>\n",
              "      <td>8</td>\n",
              "      <td>-14</td>\n",
              "    </tr>\n",
              "    <tr>\n",
              "      <th>3</th>\n",
              "      <td>00024acbcdf0a6daa1e931b038114c75</td>\n",
              "      <td>d4eb9395c8c0431ee92fce09860c5a06</td>\n",
              "      <td>delivered</td>\n",
              "      <td>quarta-feira</td>\n",
              "      <td>quarta-feira</td>\n",
              "      <td>terça-feira</td>\n",
              "      <td>08/08/2018</td>\n",
              "      <td>08/08/2018</td>\n",
              "      <td>14/08/2018</td>\n",
              "      <td>10/08/2018</td>\n",
              "      <td>20/08/2018</td>\n",
              "      <td>0</td>\n",
              "      <td>12</td>\n",
              "      <td>2</td>\n",
              "      <td>6</td>\n",
              "      <td>-6</td>\n",
              "    </tr>\n",
              "    <tr>\n",
              "      <th>4</th>\n",
              "      <td>00042b26cf59d7ce69dfabb4e55b4fd9</td>\n",
              "      <td>58dbd0b2d70206bf40e62cd34e84d795</td>\n",
              "      <td>delivered</td>\n",
              "      <td>sábado</td>\n",
              "      <td>sábado</td>\n",
              "      <td>quarta-feira</td>\n",
              "      <td>04/02/2017</td>\n",
              "      <td>04/02/2017</td>\n",
              "      <td>01/03/2017</td>\n",
              "      <td>16/02/2017</td>\n",
              "      <td>17/03/2017</td>\n",
              "      <td>0</td>\n",
              "      <td>41</td>\n",
              "      <td>12</td>\n",
              "      <td>25</td>\n",
              "      <td>-16</td>\n",
              "    </tr>\n",
              "  </tbody>\n",
              "</table>\n",
              "</div>"
            ],
            "text/plain": [
              "                           order_id  ... diferença_estimativa_entrega\n",
              "0  00010242fe8c5a6d1ba2dd792cb16214  ...                           -9\n",
              "1  00018f77f2f0320c557190d7a144bdd3  ...                           -3\n",
              "2  000229ec398224ef6ca0657da4fc703e  ...                          -14\n",
              "3  00024acbcdf0a6daa1e931b038114c75  ...                           -6\n",
              "4  00042b26cf59d7ce69dfabb4e55b4fd9  ...                          -16\n",
              "\n",
              "[5 rows x 16 columns]"
            ]
          },
          "metadata": {
            "tags": []
          },
          "execution_count": 16
        }
      ]
    },
    {
      "cell_type": "code",
      "metadata": {
        "id": "QhEWrhkQxFxV",
        "colab_type": "code",
        "colab": {
          "base_uri": "https://localhost:8080/",
          "height": 306
        },
        "outputId": "416d54fa-b00f-488d-dace-526ba793cd1a"
      },
      "source": [
        "#contando os valores únicos da tabela Time\n",
        "def count_unique(_time):\n",
        "  print(\"Quantidade de valores únicos\")\n",
        "  for i in _time.columns:\n",
        "    print(f\"{i}: {_time[i].nunique()}\")\n",
        "\n",
        "count_unique(_time)"
      ],
      "execution_count": 17,
      "outputs": [
        {
          "output_type": "stream",
          "text": [
            "Quantidade de valores únicos\n",
            "order_id: 99441\n",
            "customer_id: 99441\n",
            "order_status: 8\n",
            "pedido_dia: 7\n",
            "pedido_aprovado_dia: 7\n",
            "entrega_pedido_dia: 7\n",
            "order_purchase_timestamp.1: 634\n",
            "order_approved_at.1: 611\n",
            "order_delivered_customer_date.1: 645\n",
            "order_delivered_carrier_date.1: 547\n",
            "order_estimated_delivery_date.1: 459\n",
            "tempo_aprovacao_pedido: 25\n",
            "tempo_estimativa_entrega: 112\n",
            "tempo_até_transportadora: 72\n",
            "tempo_total_entrega: 149\n",
            "diferença_estimativa_entrega: 200\n"
          ],
          "name": "stdout"
        }
      ]
    },
    {
      "cell_type": "code",
      "metadata": {
        "id": "3mLek_MwxF2J",
        "colab_type": "code",
        "colab": {
          "base_uri": "https://localhost:8080/",
          "height": 224
        },
        "outputId": "dbb8f147-77bd-4d64-d17f-784b90ff6e1a"
      },
      "source": [
        "#removendo colunas com valores únicos ou repetidos e que não serão necessários da tabela Time\n",
        "columns_time = ['customer_id', 'order_status', 'order_purchase_timestamp.1', 'order_approved_at.1', 'order_delivered_customer_date.1', 'order_delivered_carrier_date.1', 'order_estimated_delivery_date.1']\n",
        "df_time = _time.drop(columns_time, axis = 1)\n",
        "df_time.head()"
      ],
      "execution_count": 18,
      "outputs": [
        {
          "output_type": "execute_result",
          "data": {
            "text/html": [
              "<div>\n",
              "<style scoped>\n",
              "    .dataframe tbody tr th:only-of-type {\n",
              "        vertical-align: middle;\n",
              "    }\n",
              "\n",
              "    .dataframe tbody tr th {\n",
              "        vertical-align: top;\n",
              "    }\n",
              "\n",
              "    .dataframe thead th {\n",
              "        text-align: right;\n",
              "    }\n",
              "</style>\n",
              "<table border=\"1\" class=\"dataframe\">\n",
              "  <thead>\n",
              "    <tr style=\"text-align: right;\">\n",
              "      <th></th>\n",
              "      <th>order_id</th>\n",
              "      <th>pedido_dia</th>\n",
              "      <th>pedido_aprovado_dia</th>\n",
              "      <th>entrega_pedido_dia</th>\n",
              "      <th>tempo_aprovacao_pedido</th>\n",
              "      <th>tempo_estimativa_entrega</th>\n",
              "      <th>tempo_até_transportadora</th>\n",
              "      <th>tempo_total_entrega</th>\n",
              "      <th>diferença_estimativa_entrega</th>\n",
              "    </tr>\n",
              "  </thead>\n",
              "  <tbody>\n",
              "    <tr>\n",
              "      <th>0</th>\n",
              "      <td>00010242fe8c5a6d1ba2dd792cb16214</td>\n",
              "      <td>quarta-feira</td>\n",
              "      <td>quarta-feira</td>\n",
              "      <td>quarta-feira</td>\n",
              "      <td>0</td>\n",
              "      <td>16</td>\n",
              "      <td>6</td>\n",
              "      <td>7</td>\n",
              "      <td>-9</td>\n",
              "    </tr>\n",
              "    <tr>\n",
              "      <th>1</th>\n",
              "      <td>00018f77f2f0320c557190d7a144bdd3</td>\n",
              "      <td>quarta-feira</td>\n",
              "      <td>quarta-feira</td>\n",
              "      <td>sexta-feira</td>\n",
              "      <td>0</td>\n",
              "      <td>19</td>\n",
              "      <td>8</td>\n",
              "      <td>16</td>\n",
              "      <td>-3</td>\n",
              "    </tr>\n",
              "    <tr>\n",
              "      <th>2</th>\n",
              "      <td>000229ec398224ef6ca0657da4fc703e</td>\n",
              "      <td>domingo</td>\n",
              "      <td>domingo</td>\n",
              "      <td>segunda-feira</td>\n",
              "      <td>0</td>\n",
              "      <td>22</td>\n",
              "      <td>2</td>\n",
              "      <td>8</td>\n",
              "      <td>-14</td>\n",
              "    </tr>\n",
              "    <tr>\n",
              "      <th>3</th>\n",
              "      <td>00024acbcdf0a6daa1e931b038114c75</td>\n",
              "      <td>quarta-feira</td>\n",
              "      <td>quarta-feira</td>\n",
              "      <td>terça-feira</td>\n",
              "      <td>0</td>\n",
              "      <td>12</td>\n",
              "      <td>2</td>\n",
              "      <td>6</td>\n",
              "      <td>-6</td>\n",
              "    </tr>\n",
              "    <tr>\n",
              "      <th>4</th>\n",
              "      <td>00042b26cf59d7ce69dfabb4e55b4fd9</td>\n",
              "      <td>sábado</td>\n",
              "      <td>sábado</td>\n",
              "      <td>quarta-feira</td>\n",
              "      <td>0</td>\n",
              "      <td>41</td>\n",
              "      <td>12</td>\n",
              "      <td>25</td>\n",
              "      <td>-16</td>\n",
              "    </tr>\n",
              "  </tbody>\n",
              "</table>\n",
              "</div>"
            ],
            "text/plain": [
              "                           order_id  ... diferença_estimativa_entrega\n",
              "0  00010242fe8c5a6d1ba2dd792cb16214  ...                           -9\n",
              "1  00018f77f2f0320c557190d7a144bdd3  ...                           -3\n",
              "2  000229ec398224ef6ca0657da4fc703e  ...                          -14\n",
              "3  00024acbcdf0a6daa1e931b038114c75  ...                           -6\n",
              "4  00042b26cf59d7ce69dfabb4e55b4fd9  ...                          -16\n",
              "\n",
              "[5 rows x 9 columns]"
            ]
          },
          "metadata": {
            "tags": []
          },
          "execution_count": 18
        }
      ]
    },
    {
      "cell_type": "code",
      "metadata": {
        "id": "JVXFjcIxxF5A",
        "colab_type": "code",
        "colab": {
          "base_uri": "https://localhost:8080/",
          "height": 187
        },
        "outputId": "da6753f1-792d-4974-c924-f6740186d694"
      },
      "source": [
        "#verificando os nulos da tabela time\n",
        "df_time.isnull().sum()"
      ],
      "execution_count": 19,
      "outputs": [
        {
          "output_type": "execute_result",
          "data": {
            "text/plain": [
              "order_id                        949134\n",
              "pedido_dia                      949134\n",
              "pedido_aprovado_dia             949294\n",
              "entrega_pedido_dia              952099\n",
              "tempo_aprovacao_pedido               0\n",
              "tempo_estimativa_entrega             0\n",
              "tempo_até_transportadora             0\n",
              "tempo_total_entrega                  0\n",
              "diferença_estimativa_entrega         0\n",
              "dtype: int64"
            ]
          },
          "metadata": {
            "tags": []
          },
          "execution_count": 19
        }
      ]
    },
    {
      "cell_type": "code",
      "metadata": {
        "id": "Mdgh1fEAxF7p",
        "colab_type": "code",
        "colab": {
          "base_uri": "https://localhost:8080/",
          "height": 258
        },
        "outputId": "fdad1c52-e0a9-44c9-93cf-6c35f08ab3d4"
      },
      "source": [
        "#unindo as tabelas de Customer, Orders, Reviews e Time\n",
        "_merge3 = pd.merge(_merge2, df_time, left_on='order_id', right_on='order_id', how='inner')\n",
        "_merge3.head()"
      ],
      "execution_count": 20,
      "outputs": [
        {
          "output_type": "execute_result",
          "data": {
            "text/html": [
              "<div>\n",
              "<style scoped>\n",
              "    .dataframe tbody tr th:only-of-type {\n",
              "        vertical-align: middle;\n",
              "    }\n",
              "\n",
              "    .dataframe tbody tr th {\n",
              "        vertical-align: top;\n",
              "    }\n",
              "\n",
              "    .dataframe thead th {\n",
              "        text-align: right;\n",
              "    }\n",
              "</style>\n",
              "<table border=\"1\" class=\"dataframe\">\n",
              "  <thead>\n",
              "    <tr style=\"text-align: right;\">\n",
              "      <th></th>\n",
              "      <th>customer_id</th>\n",
              "      <th>customer_zip_code_prefix</th>\n",
              "      <th>customer_city</th>\n",
              "      <th>customer_state</th>\n",
              "      <th>order_id</th>\n",
              "      <th>order_status</th>\n",
              "      <th>review_id</th>\n",
              "      <th>review_score</th>\n",
              "      <th>pedido_dia</th>\n",
              "      <th>pedido_aprovado_dia</th>\n",
              "      <th>entrega_pedido_dia</th>\n",
              "      <th>tempo_aprovacao_pedido</th>\n",
              "      <th>tempo_estimativa_entrega</th>\n",
              "      <th>tempo_até_transportadora</th>\n",
              "      <th>tempo_total_entrega</th>\n",
              "      <th>diferença_estimativa_entrega</th>\n",
              "    </tr>\n",
              "  </thead>\n",
              "  <tbody>\n",
              "    <tr>\n",
              "      <th>0</th>\n",
              "      <td>06b8999e2fba1a1fbc88172c00ba8bc7</td>\n",
              "      <td>14409</td>\n",
              "      <td>franca</td>\n",
              "      <td>SP</td>\n",
              "      <td>00e7ee1b050b8499577073aeb2a297a1</td>\n",
              "      <td>delivered</td>\n",
              "      <td>88b8b52d46df026a9d1ad2136a59b30b</td>\n",
              "      <td>4</td>\n",
              "      <td>terça-feira</td>\n",
              "      <td>terça-feira</td>\n",
              "      <td>quinta-feira</td>\n",
              "      <td>0</td>\n",
              "      <td>20</td>\n",
              "      <td>7</td>\n",
              "      <td>9</td>\n",
              "      <td>-11</td>\n",
              "    </tr>\n",
              "    <tr>\n",
              "      <th>1</th>\n",
              "      <td>18955e83d337fd6b2def6b18a428ac77</td>\n",
              "      <td>9790</td>\n",
              "      <td>sao bernardo do campo</td>\n",
              "      <td>SP</td>\n",
              "      <td>29150127e6685892b6eab3eec79f59c7</td>\n",
              "      <td>delivered</td>\n",
              "      <td>02fc48a9efa3e3d0f1a8ea26507eeec3</td>\n",
              "      <td>5</td>\n",
              "      <td>sexta-feira</td>\n",
              "      <td>sexta-feira</td>\n",
              "      <td>segunda-feira</td>\n",
              "      <td>0</td>\n",
              "      <td>25</td>\n",
              "      <td>3</td>\n",
              "      <td>17</td>\n",
              "      <td>-8</td>\n",
              "    </tr>\n",
              "    <tr>\n",
              "      <th>2</th>\n",
              "      <td>4e7b3e00288586ebd08712fdd0374a03</td>\n",
              "      <td>1151</td>\n",
              "      <td>sao paulo</td>\n",
              "      <td>SP</td>\n",
              "      <td>b2059ed67ce144a36e2aa97d2c9e9ad2</td>\n",
              "      <td>delivered</td>\n",
              "      <td>5ad6695d76ee186dc473c42706984d87</td>\n",
              "      <td>5</td>\n",
              "      <td>sábado</td>\n",
              "      <td>domingo</td>\n",
              "      <td>quinta-feira</td>\n",
              "      <td>1</td>\n",
              "      <td>24</td>\n",
              "      <td>22</td>\n",
              "      <td>25</td>\n",
              "      <td>1</td>\n",
              "    </tr>\n",
              "    <tr>\n",
              "      <th>3</th>\n",
              "      <td>b2b6027bc5c5109e529d4dc6358b12c3</td>\n",
              "      <td>8775</td>\n",
              "      <td>mogi das cruzes</td>\n",
              "      <td>SP</td>\n",
              "      <td>951670f92359f4fe4a63112aa7306eba</td>\n",
              "      <td>delivered</td>\n",
              "      <td>059a801bb31f6aab2266e672cab87bc5</td>\n",
              "      <td>5</td>\n",
              "      <td>terça-feira</td>\n",
              "      <td>terça-feira</td>\n",
              "      <td>quarta-feira</td>\n",
              "      <td>0</td>\n",
              "      <td>28</td>\n",
              "      <td>14</td>\n",
              "      <td>15</td>\n",
              "      <td>-13</td>\n",
              "    </tr>\n",
              "    <tr>\n",
              "      <th>4</th>\n",
              "      <td>4f2d8ab171c80ec8364f7c12e35b23ad</td>\n",
              "      <td>13056</td>\n",
              "      <td>campinas</td>\n",
              "      <td>SP</td>\n",
              "      <td>6b7d50bd145f6fc7f33cebabd7e49d0f</td>\n",
              "      <td>delivered</td>\n",
              "      <td>8490879d58d6c5d7773f2739a03f089a</td>\n",
              "      <td>5</td>\n",
              "      <td>domingo</td>\n",
              "      <td>domingo</td>\n",
              "      <td>quinta-feira</td>\n",
              "      <td>0</td>\n",
              "      <td>17</td>\n",
              "      <td>1</td>\n",
              "      <td>11</td>\n",
              "      <td>-6</td>\n",
              "    </tr>\n",
              "  </tbody>\n",
              "</table>\n",
              "</div>"
            ],
            "text/plain": [
              "                        customer_id  ...  diferença_estimativa_entrega\n",
              "0  06b8999e2fba1a1fbc88172c00ba8bc7  ...                           -11\n",
              "1  18955e83d337fd6b2def6b18a428ac77  ...                            -8\n",
              "2  4e7b3e00288586ebd08712fdd0374a03  ...                             1\n",
              "3  b2b6027bc5c5109e529d4dc6358b12c3  ...                           -13\n",
              "4  4f2d8ab171c80ec8364f7c12e35b23ad  ...                            -6\n",
              "\n",
              "[5 rows x 16 columns]"
            ]
          },
          "metadata": {
            "tags": []
          },
          "execution_count": 20
        }
      ]
    },
    {
      "cell_type": "code",
      "metadata": {
        "id": "vGj_SO7pxF-D",
        "colab_type": "code",
        "colab": {
          "base_uri": "https://localhost:8080/",
          "height": 258
        },
        "outputId": "97a623dd-d3c9-465e-ec55-77d8aec7fe69"
      },
      "source": [
        "#testando o preenchimento dos nulls\n",
        "null_test = _merge3.fillna(0)\n",
        "null_test.head()"
      ],
      "execution_count": 22,
      "outputs": [
        {
          "output_type": "execute_result",
          "data": {
            "text/html": [
              "<div>\n",
              "<style scoped>\n",
              "    .dataframe tbody tr th:only-of-type {\n",
              "        vertical-align: middle;\n",
              "    }\n",
              "\n",
              "    .dataframe tbody tr th {\n",
              "        vertical-align: top;\n",
              "    }\n",
              "\n",
              "    .dataframe thead th {\n",
              "        text-align: right;\n",
              "    }\n",
              "</style>\n",
              "<table border=\"1\" class=\"dataframe\">\n",
              "  <thead>\n",
              "    <tr style=\"text-align: right;\">\n",
              "      <th></th>\n",
              "      <th>customer_id</th>\n",
              "      <th>customer_zip_code_prefix</th>\n",
              "      <th>customer_city</th>\n",
              "      <th>customer_state</th>\n",
              "      <th>order_id</th>\n",
              "      <th>order_status</th>\n",
              "      <th>review_id</th>\n",
              "      <th>review_score</th>\n",
              "      <th>pedido_dia</th>\n",
              "      <th>pedido_aprovado_dia</th>\n",
              "      <th>entrega_pedido_dia</th>\n",
              "      <th>tempo_aprovacao_pedido</th>\n",
              "      <th>tempo_estimativa_entrega</th>\n",
              "      <th>tempo_até_transportadora</th>\n",
              "      <th>tempo_total_entrega</th>\n",
              "      <th>diferença_estimativa_entrega</th>\n",
              "    </tr>\n",
              "  </thead>\n",
              "  <tbody>\n",
              "    <tr>\n",
              "      <th>0</th>\n",
              "      <td>06b8999e2fba1a1fbc88172c00ba8bc7</td>\n",
              "      <td>14409</td>\n",
              "      <td>franca</td>\n",
              "      <td>SP</td>\n",
              "      <td>00e7ee1b050b8499577073aeb2a297a1</td>\n",
              "      <td>delivered</td>\n",
              "      <td>88b8b52d46df026a9d1ad2136a59b30b</td>\n",
              "      <td>4</td>\n",
              "      <td>terça-feira</td>\n",
              "      <td>terça-feira</td>\n",
              "      <td>quinta-feira</td>\n",
              "      <td>0</td>\n",
              "      <td>20</td>\n",
              "      <td>7</td>\n",
              "      <td>9</td>\n",
              "      <td>-11</td>\n",
              "    </tr>\n",
              "    <tr>\n",
              "      <th>1</th>\n",
              "      <td>18955e83d337fd6b2def6b18a428ac77</td>\n",
              "      <td>9790</td>\n",
              "      <td>sao bernardo do campo</td>\n",
              "      <td>SP</td>\n",
              "      <td>29150127e6685892b6eab3eec79f59c7</td>\n",
              "      <td>delivered</td>\n",
              "      <td>02fc48a9efa3e3d0f1a8ea26507eeec3</td>\n",
              "      <td>5</td>\n",
              "      <td>sexta-feira</td>\n",
              "      <td>sexta-feira</td>\n",
              "      <td>segunda-feira</td>\n",
              "      <td>0</td>\n",
              "      <td>25</td>\n",
              "      <td>3</td>\n",
              "      <td>17</td>\n",
              "      <td>-8</td>\n",
              "    </tr>\n",
              "    <tr>\n",
              "      <th>2</th>\n",
              "      <td>4e7b3e00288586ebd08712fdd0374a03</td>\n",
              "      <td>1151</td>\n",
              "      <td>sao paulo</td>\n",
              "      <td>SP</td>\n",
              "      <td>b2059ed67ce144a36e2aa97d2c9e9ad2</td>\n",
              "      <td>delivered</td>\n",
              "      <td>5ad6695d76ee186dc473c42706984d87</td>\n",
              "      <td>5</td>\n",
              "      <td>sábado</td>\n",
              "      <td>domingo</td>\n",
              "      <td>quinta-feira</td>\n",
              "      <td>1</td>\n",
              "      <td>24</td>\n",
              "      <td>22</td>\n",
              "      <td>25</td>\n",
              "      <td>1</td>\n",
              "    </tr>\n",
              "    <tr>\n",
              "      <th>3</th>\n",
              "      <td>b2b6027bc5c5109e529d4dc6358b12c3</td>\n",
              "      <td>8775</td>\n",
              "      <td>mogi das cruzes</td>\n",
              "      <td>SP</td>\n",
              "      <td>951670f92359f4fe4a63112aa7306eba</td>\n",
              "      <td>delivered</td>\n",
              "      <td>059a801bb31f6aab2266e672cab87bc5</td>\n",
              "      <td>5</td>\n",
              "      <td>terça-feira</td>\n",
              "      <td>terça-feira</td>\n",
              "      <td>quarta-feira</td>\n",
              "      <td>0</td>\n",
              "      <td>28</td>\n",
              "      <td>14</td>\n",
              "      <td>15</td>\n",
              "      <td>-13</td>\n",
              "    </tr>\n",
              "    <tr>\n",
              "      <th>4</th>\n",
              "      <td>4f2d8ab171c80ec8364f7c12e35b23ad</td>\n",
              "      <td>13056</td>\n",
              "      <td>campinas</td>\n",
              "      <td>SP</td>\n",
              "      <td>6b7d50bd145f6fc7f33cebabd7e49d0f</td>\n",
              "      <td>delivered</td>\n",
              "      <td>8490879d58d6c5d7773f2739a03f089a</td>\n",
              "      <td>5</td>\n",
              "      <td>domingo</td>\n",
              "      <td>domingo</td>\n",
              "      <td>quinta-feira</td>\n",
              "      <td>0</td>\n",
              "      <td>17</td>\n",
              "      <td>1</td>\n",
              "      <td>11</td>\n",
              "      <td>-6</td>\n",
              "    </tr>\n",
              "  </tbody>\n",
              "</table>\n",
              "</div>"
            ],
            "text/plain": [
              "                        customer_id  ...  diferença_estimativa_entrega\n",
              "0  06b8999e2fba1a1fbc88172c00ba8bc7  ...                           -11\n",
              "1  18955e83d337fd6b2def6b18a428ac77  ...                            -8\n",
              "2  4e7b3e00288586ebd08712fdd0374a03  ...                             1\n",
              "3  b2b6027bc5c5109e529d4dc6358b12c3  ...                           -13\n",
              "4  4f2d8ab171c80ec8364f7c12e35b23ad  ...                            -6\n",
              "\n",
              "[5 rows x 16 columns]"
            ]
          },
          "metadata": {
            "tags": []
          },
          "execution_count": 22
        }
      ]
    },
    {
      "cell_type": "code",
      "metadata": {
        "id": "lcWr6FipxGCj",
        "colab_type": "code",
        "colab": {}
      },
      "source": [
        "#testando a substituilção de campos\n",
        "_merge3['pedido_dia'].replace(['segunda-feira', 'terça-feira', 'quarta-feira', 'quinta-feira', 'sexta-feira', 'sábado', 'domingo'], [1, 2, 3, 4, 5, 6, 7], inplace=True)"
      ],
      "execution_count": 0,
      "outputs": []
    },
    {
      "cell_type": "code",
      "metadata": {
        "id": "QDul-skwxGEp",
        "colab_type": "code",
        "colab": {
          "base_uri": "https://localhost:8080/",
          "height": 153
        },
        "outputId": "2c2ae3c2-7f13-4ef8-d121-53d8056c132d"
      },
      "source": [
        "#verificando a substituição dos valores\n",
        "_merge3['pedido_dia'].value_counts()"
      ],
      "execution_count": 42,
      "outputs": [
        {
          "output_type": "execute_result",
          "data": {
            "text/plain": [
              "1    16284\n",
              "2    16038\n",
              "3    15641\n",
              "4    14843\n",
              "5    14213\n",
              "7    12030\n",
              "6    10951\n",
              "Name: pedido_dia, dtype: int64"
            ]
          },
          "metadata": {
            "tags": []
          },
          "execution_count": 42
        }
      ]
    },
    {
      "cell_type": "code",
      "metadata": {
        "id": "FLi0VO3GxGG1",
        "colab_type": "code",
        "colab": {
          "base_uri": "https://localhost:8080/",
          "height": 221
        },
        "outputId": "6e5e12d7-8713-46c8-c6cf-b0d69b5bf122"
      },
      "source": [
        "#verificando a quantidade de consumidores por cidade e transformando em porcentagem\n",
        "df_city = _merge3['customer_city'].value_counts()\n",
        "df_city  / 1000 #aqui eu multipliquei df_city por 100 e depois dividi por 100000, que é o total de colunas, portanto basta apenas dividir a df_city por 1000"
      ],
      "execution_count": 51,
      "outputs": [
        {
          "output_type": "execute_result",
          "data": {
            "text/plain": [
              "sao paulo               15.635\n",
              "rio de janeiro           6.926\n",
              "belo horizonte           2.795\n",
              "brasilia                 2.151\n",
              "curitiba                 1.525\n",
              "                         ...  \n",
              "macambira                0.001\n",
              "alvorada do gurgueia     0.001\n",
              "dom macedo costa         0.001\n",
              "brejo grande             0.001\n",
              "sao benedito do sul      0.001\n",
              "Name: customer_city, Length: 4119, dtype: float64"
            ]
          },
          "metadata": {
            "tags": []
          },
          "execution_count": 51
        }
      ]
    },
    {
      "cell_type": "code",
      "metadata": {
        "id": "8In_d5x1xGBH",
        "colab_type": "code",
        "colab": {
          "base_uri": "https://localhost:8080/",
          "height": 297
        },
        "outputId": "0497332f-a8da-4db6-c7ae-a34777c2e6ad"
      },
      "source": [
        "#com describe, é possível ter uma noção de valores estatísticos\n",
        "_merge3.describe()"
      ],
      "execution_count": 112,
      "outputs": [
        {
          "output_type": "execute_result",
          "data": {
            "text/html": [
              "<div>\n",
              "<style scoped>\n",
              "    .dataframe tbody tr th:only-of-type {\n",
              "        vertical-align: middle;\n",
              "    }\n",
              "\n",
              "    .dataframe tbody tr th {\n",
              "        vertical-align: top;\n",
              "    }\n",
              "\n",
              "    .dataframe thead th {\n",
              "        text-align: right;\n",
              "    }\n",
              "</style>\n",
              "<table border=\"1\" class=\"dataframe\">\n",
              "  <thead>\n",
              "    <tr style=\"text-align: right;\">\n",
              "      <th></th>\n",
              "      <th>customer_zip_code_prefix</th>\n",
              "      <th>review_score</th>\n",
              "      <th>pedido_dia</th>\n",
              "    </tr>\n",
              "  </thead>\n",
              "  <tbody>\n",
              "    <tr>\n",
              "      <th>count</th>\n",
              "      <td>100000.000000</td>\n",
              "      <td>100000.000000</td>\n",
              "      <td>100000.000000</td>\n",
              "    </tr>\n",
              "    <tr>\n",
              "      <th>mean</th>\n",
              "      <td>35141.245400</td>\n",
              "      <td>4.070890</td>\n",
              "      <td>3.756360</td>\n",
              "    </tr>\n",
              "    <tr>\n",
              "      <th>std</th>\n",
              "      <td>29800.086711</td>\n",
              "      <td>1.359663</td>\n",
              "      <td>1.966479</td>\n",
              "    </tr>\n",
              "    <tr>\n",
              "      <th>min</th>\n",
              "      <td>1003.000000</td>\n",
              "      <td>1.000000</td>\n",
              "      <td>1.000000</td>\n",
              "    </tr>\n",
              "    <tr>\n",
              "      <th>25%</th>\n",
              "      <td>11347.000000</td>\n",
              "      <td>4.000000</td>\n",
              "      <td>2.000000</td>\n",
              "    </tr>\n",
              "    <tr>\n",
              "      <th>50%</th>\n",
              "      <td>24416.000000</td>\n",
              "      <td>5.000000</td>\n",
              "      <td>4.000000</td>\n",
              "    </tr>\n",
              "    <tr>\n",
              "      <th>75%</th>\n",
              "      <td>58900.000000</td>\n",
              "      <td>5.000000</td>\n",
              "      <td>5.000000</td>\n",
              "    </tr>\n",
              "    <tr>\n",
              "      <th>max</th>\n",
              "      <td>99990.000000</td>\n",
              "      <td>5.000000</td>\n",
              "      <td>7.000000</td>\n",
              "    </tr>\n",
              "  </tbody>\n",
              "</table>\n",
              "</div>"
            ],
            "text/plain": [
              "       customer_zip_code_prefix   review_score     pedido_dia\n",
              "count             100000.000000  100000.000000  100000.000000\n",
              "mean               35141.245400       4.070890       3.756360\n",
              "std                29800.086711       1.359663       1.966479\n",
              "min                 1003.000000       1.000000       1.000000\n",
              "25%                11347.000000       4.000000       2.000000\n",
              "50%                24416.000000       5.000000       4.000000\n",
              "75%                58900.000000       5.000000       5.000000\n",
              "max                99990.000000       5.000000       7.000000"
            ]
          },
          "metadata": {
            "tags": []
          },
          "execution_count": 112
        }
      ]
    },
    {
      "cell_type": "code",
      "metadata": {
        "id": "javvNcicpaWH",
        "colab_type": "code",
        "colab": {
          "base_uri": "https://localhost:8080/",
          "height": 297
        },
        "outputId": "0892e23a-8903-4c6e-e869-0b4f8a9ce361"
      },
      "source": [
        "status = _merge3[:10] #filtrei para mostrar apenas os valores para as primeiras 10 linhas\n",
        "status.describe()"
      ],
      "execution_count": 113,
      "outputs": [
        {
          "output_type": "execute_result",
          "data": {
            "text/html": [
              "<div>\n",
              "<style scoped>\n",
              "    .dataframe tbody tr th:only-of-type {\n",
              "        vertical-align: middle;\n",
              "    }\n",
              "\n",
              "    .dataframe tbody tr th {\n",
              "        vertical-align: top;\n",
              "    }\n",
              "\n",
              "    .dataframe thead th {\n",
              "        text-align: right;\n",
              "    }\n",
              "</style>\n",
              "<table border=\"1\" class=\"dataframe\">\n",
              "  <thead>\n",
              "    <tr style=\"text-align: right;\">\n",
              "      <th></th>\n",
              "      <th>customer_zip_code_prefix</th>\n",
              "      <th>review_score</th>\n",
              "      <th>pedido_dia</th>\n",
              "    </tr>\n",
              "  </thead>\n",
              "  <tbody>\n",
              "    <tr>\n",
              "      <th>count</th>\n",
              "      <td>10.000000</td>\n",
              "      <td>10.000000</td>\n",
              "      <td>10.000000</td>\n",
              "    </tr>\n",
              "    <tr>\n",
              "      <th>mean</th>\n",
              "      <td>28828.600000</td>\n",
              "      <td>4.700000</td>\n",
              "      <td>3.600000</td>\n",
              "    </tr>\n",
              "    <tr>\n",
              "      <th>std</th>\n",
              "      <td>31715.466231</td>\n",
              "      <td>0.674949</td>\n",
              "      <td>2.065591</td>\n",
              "    </tr>\n",
              "    <tr>\n",
              "      <th>min</th>\n",
              "      <td>1151.000000</td>\n",
              "      <td>3.000000</td>\n",
              "      <td>1.000000</td>\n",
              "    </tr>\n",
              "    <tr>\n",
              "      <th>25%</th>\n",
              "      <td>9028.750000</td>\n",
              "      <td>5.000000</td>\n",
              "      <td>2.000000</td>\n",
              "    </tr>\n",
              "    <tr>\n",
              "      <th>50%</th>\n",
              "      <td>13732.500000</td>\n",
              "      <td>5.000000</td>\n",
              "      <td>4.000000</td>\n",
              "    </tr>\n",
              "    <tr>\n",
              "      <th>75%</th>\n",
              "      <td>34030.250000</td>\n",
              "      <td>5.000000</td>\n",
              "      <td>4.750000</td>\n",
              "    </tr>\n",
              "    <tr>\n",
              "      <th>max</th>\n",
              "      <td>89254.000000</td>\n",
              "      <td>5.000000</td>\n",
              "      <td>7.000000</td>\n",
              "    </tr>\n",
              "  </tbody>\n",
              "</table>\n",
              "</div>"
            ],
            "text/plain": [
              "       customer_zip_code_prefix  review_score  pedido_dia\n",
              "count                 10.000000     10.000000   10.000000\n",
              "mean               28828.600000      4.700000    3.600000\n",
              "std                31715.466231      0.674949    2.065591\n",
              "min                 1151.000000      3.000000    1.000000\n",
              "25%                 9028.750000      5.000000    2.000000\n",
              "50%                13732.500000      5.000000    4.000000\n",
              "75%                34030.250000      5.000000    4.750000\n",
              "max                89254.000000      5.000000    7.000000"
            ]
          },
          "metadata": {
            "tags": []
          },
          "execution_count": 113
        }
      ]
    },
    {
      "cell_type": "markdown",
      "metadata": {
        "id": "lLqd9Mpvuo8N",
        "colab_type": "text"
      },
      "source": [
        "Veja que os dados do dia da semana, por terem sido convertidos em variáveis contínuas, foram incluídos na análise.\n"
      ]
    },
    {
      "cell_type": "code",
      "metadata": {
        "id": "6smFu9LWZb9X",
        "colab_type": "code",
        "colab": {
          "base_uri": "https://localhost:8080/",
          "height": 359
        },
        "outputId": "6f668a0d-b1db-48b2-da16-6c6efaca84e5"
      },
      "source": [
        "# Pergunta: quero saber onde moram os condumidores que deram as maiores notas de review, ou seja, avaliação 5\n",
        "\n",
        "# vou filtrar as colunas de interesse, 'JobFactorSalary' e 'JobFactorLearning'\n",
        "\n",
        "_merge3[['customer_city', 'review_score']][:10]"
      ],
      "execution_count": 52,
      "outputs": [
        {
          "output_type": "execute_result",
          "data": {
            "text/html": [
              "<div>\n",
              "<style scoped>\n",
              "    .dataframe tbody tr th:only-of-type {\n",
              "        vertical-align: middle;\n",
              "    }\n",
              "\n",
              "    .dataframe tbody tr th {\n",
              "        vertical-align: top;\n",
              "    }\n",
              "\n",
              "    .dataframe thead th {\n",
              "        text-align: right;\n",
              "    }\n",
              "</style>\n",
              "<table border=\"1\" class=\"dataframe\">\n",
              "  <thead>\n",
              "    <tr style=\"text-align: right;\">\n",
              "      <th></th>\n",
              "      <th>customer_city</th>\n",
              "      <th>review_score</th>\n",
              "    </tr>\n",
              "  </thead>\n",
              "  <tbody>\n",
              "    <tr>\n",
              "      <th>0</th>\n",
              "      <td>franca</td>\n",
              "      <td>4</td>\n",
              "    </tr>\n",
              "    <tr>\n",
              "      <th>1</th>\n",
              "      <td>sao bernardo do campo</td>\n",
              "      <td>5</td>\n",
              "    </tr>\n",
              "    <tr>\n",
              "      <th>2</th>\n",
              "      <td>sao paulo</td>\n",
              "      <td>5</td>\n",
              "    </tr>\n",
              "    <tr>\n",
              "      <th>3</th>\n",
              "      <td>mogi das cruzes</td>\n",
              "      <td>5</td>\n",
              "    </tr>\n",
              "    <tr>\n",
              "      <th>4</th>\n",
              "      <td>campinas</td>\n",
              "      <td>5</td>\n",
              "    </tr>\n",
              "    <tr>\n",
              "      <th>5</th>\n",
              "      <td>jaragua do sul</td>\n",
              "      <td>5</td>\n",
              "    </tr>\n",
              "    <tr>\n",
              "      <th>6</th>\n",
              "      <td>sao paulo</td>\n",
              "      <td>5</td>\n",
              "    </tr>\n",
              "    <tr>\n",
              "      <th>7</th>\n",
              "      <td>timoteo</td>\n",
              "      <td>3</td>\n",
              "    </tr>\n",
              "    <tr>\n",
              "      <th>8</th>\n",
              "      <td>curitiba</td>\n",
              "      <td>5</td>\n",
              "    </tr>\n",
              "    <tr>\n",
              "      <th>9</th>\n",
              "      <td>belo horizonte</td>\n",
              "      <td>5</td>\n",
              "    </tr>\n",
              "  </tbody>\n",
              "</table>\n",
              "</div>"
            ],
            "text/plain": [
              "           customer_city  review_score\n",
              "0                 franca             4\n",
              "1  sao bernardo do campo             5\n",
              "2              sao paulo             5\n",
              "3        mogi das cruzes             5\n",
              "4               campinas             5\n",
              "5         jaragua do sul             5\n",
              "6              sao paulo             5\n",
              "7                timoteo             3\n",
              "8               curitiba             5\n",
              "9         belo horizonte             5"
            ]
          },
          "metadata": {
            "tags": []
          },
          "execution_count": 52
        }
      ]
    },
    {
      "cell_type": "code",
      "metadata": {
        "id": "XgTqtQ0PZ6Ln",
        "colab_type": "code",
        "colab": {
          "base_uri": "https://localhost:8080/",
          "height": 34
        },
        "outputId": "2ca8a296-5fe5-436f-89e1-440afc2f1644"
      },
      "source": [
        "#agora vou filtrar para ver somente os que deram review acima de 5\n",
        "\n",
        "nota_max = _merge3[_merge3['review_score'] == 5]\n",
        "\n",
        "#usamos o shape para verificar que o tamanho do dataset foi mantido (16 colunas)\n",
        "nota_max.shape"
      ],
      "execution_count": 55,
      "outputs": [
        {
          "output_type": "execute_result",
          "data": {
            "text/plain": [
              "(57420, 16)"
            ]
          },
          "metadata": {
            "tags": []
          },
          "execution_count": 55
        }
      ]
    },
    {
      "cell_type": "code",
      "metadata": {
        "id": "_sachBVvakjj",
        "colab_type": "code",
        "colab": {}
      },
      "source": [
        "#agora vamos filtrar onde moram as pessoas que deram review acima de 5\n",
        "\n",
        "nota_max = _merge3['review_score'] == 5\n",
        "moradia = _merge3['customer_city']\n",
        "moradia_nota_max = _merge3[nota_max & moradia]"
      ],
      "execution_count": 0,
      "outputs": []
    },
    {
      "cell_type": "code",
      "metadata": {
        "id": "cHPwhtTzbZtk",
        "colab_type": "code",
        "colab": {
          "base_uri": "https://localhost:8080/",
          "height": 34
        },
        "outputId": "c8296188-f094-45fb-bb53-1a3ab941406a"
      },
      "source": [
        "moradia_nota_max.shape #verificando se funcionou"
      ],
      "execution_count": 57,
      "outputs": [
        {
          "output_type": "execute_result",
          "data": {
            "text/plain": [
              "(57420, 16)"
            ]
          },
          "metadata": {
            "tags": []
          },
          "execution_count": 57
        }
      ]
    },
    {
      "cell_type": "code",
      "metadata": {
        "id": "v3mrGDXtbfSv",
        "colab_type": "code",
        "colab": {
          "base_uri": "https://localhost:8080/",
          "height": 221
        },
        "outputId": "fb110d2d-c3a1-4f4d-f51a-2d7e3498eb27"
      },
      "source": [
        "#verificando as cidades em que moram esses consumidores\n",
        "moradia_nota_max['customer_city'].value_counts()"
      ],
      "execution_count": 61,
      "outputs": [
        {
          "output_type": "execute_result",
          "data": {
            "text/plain": [
              "sao paulo                      9324\n",
              "rio de janeiro                 3812\n",
              "belo horizonte                 1616\n",
              "brasilia                       1207\n",
              "curitiba                        944\n",
              "                               ... \n",
              "vale do sol                       1\n",
              "santo antonio do descoberto       1\n",
              "sao valentim                      1\n",
              "felisburgo                        1\n",
              "sao benedito do sul               1\n",
              "Name: customer_city, Length: 3464, dtype: int64"
            ]
          },
          "metadata": {
            "tags": []
          },
          "execution_count": 61
        }
      ]
    },
    {
      "cell_type": "code",
      "metadata": {
        "id": "RESH5UesnceX",
        "colab_type": "code",
        "colab": {
          "base_uri": "https://localhost:8080/",
          "height": 221
        },
        "outputId": "a0ef5bbc-36c2-4799-9954-699e216e1681"
      },
      "source": [
        "moradia_nota_max['customer_city'].value_counts(normalize=True) * 100"
      ],
      "execution_count": 108,
      "outputs": [
        {
          "output_type": "execute_result",
          "data": {
            "text/plain": [
              "sao paulo                      16.238245\n",
              "rio de janeiro                  6.638802\n",
              "belo horizonte                  2.814350\n",
              "brasilia                        2.102055\n",
              "curitiba                        1.644026\n",
              "                                 ...    \n",
              "vale do sol                     0.001742\n",
              "santo antonio do descoberto     0.001742\n",
              "sao valentim                    0.001742\n",
              "felisburgo                      0.001742\n",
              "sao benedito do sul             0.001742\n",
              "Name: customer_city, Length: 3464, dtype: float64"
            ]
          },
          "metadata": {
            "tags": []
          },
          "execution_count": 108
        }
      ]
    },
    {
      "cell_type": "markdown",
      "metadata": {
        "id": "yHvcwVqjnx0n",
        "colab_type": "text"
      },
      "source": [
        "Acima, observamos, que a porcentagem de pessoas que dão reviews positivas é apenas levemente diferente do que a porcentagem de consumidores que já residem nas cidades:"
      ]
    },
    {
      "cell_type": "code",
      "metadata": {
        "id": "buo0qrAeoAzD",
        "colab_type": "code",
        "colab": {
          "base_uri": "https://localhost:8080/",
          "height": 221
        },
        "outputId": "6be8141c-bba0-4019-cd26-af0464a074ec"
      },
      "source": [
        "df_city  / 1000"
      ],
      "execution_count": 109,
      "outputs": [
        {
          "output_type": "execute_result",
          "data": {
            "text/plain": [
              "sao paulo               15.635\n",
              "rio de janeiro           6.926\n",
              "belo horizonte           2.795\n",
              "brasilia                 2.151\n",
              "curitiba                 1.525\n",
              "                         ...  \n",
              "macambira                0.001\n",
              "alvorada do gurgueia     0.001\n",
              "dom macedo costa         0.001\n",
              "brejo grande             0.001\n",
              "sao benedito do sul      0.001\n",
              "Name: customer_city, Length: 4119, dtype: float64"
            ]
          },
          "metadata": {
            "tags": []
          },
          "execution_count": 109
        }
      ]
    },
    {
      "cell_type": "markdown",
      "metadata": {
        "id": "mJU2Ely0oNpn",
        "colab_type": "text"
      },
      "source": [
        "Se essas porcentagens praticamente se mantêm, a impressão é de que a geolocalização não é um fator que altera a predisposição de um consumidor a dar uma nota mais alta."
      ]
    },
    {
      "cell_type": "code",
      "metadata": {
        "id": "DPRT6hT9cTui",
        "colab_type": "code",
        "colab": {
          "base_uri": "https://localhost:8080/",
          "height": 297
        },
        "outputId": "a3997bc3-f3d6-4878-d2d7-543fa516c385"
      },
      "source": [
        "#plotando o gráfico com as informações de review 5 x cidade\n",
        "sns.countplot(moradia_nota_max['customer_city'])\n",
        "plt.ylabel('Cidade')"
      ],
      "execution_count": 68,
      "outputs": [
        {
          "output_type": "execute_result",
          "data": {
            "text/plain": [
              "Text(0, 0.5, 'Cidade')"
            ]
          },
          "metadata": {
            "tags": []
          },
          "execution_count": 68
        },
        {
          "output_type": "display_data",
          "data": {
            "image/png": "[encoded data removed]",
            "text/plain": [
              "<Figure size 432x288 with 1 Axes>"
            ]
          },
          "metadata": {
            "tags": []
          }
        }
      ]
    },
    {
      "cell_type": "code",
      "metadata": {
        "id": "WkrtjC4lg1Th",
        "colab_type": "code",
        "colab": {
          "base_uri": "https://localhost:8080/",
          "height": 297
        },
        "outputId": "00a5cd7b-a7b7-4181-f596-3e0cc5f61230"
      },
      "source": [
        "moradia_nota_max.describe()"
      ],
      "execution_count": 79,
      "outputs": [
        {
          "output_type": "execute_result",
          "data": {
            "text/html": [
              "<div>\n",
              "<style scoped>\n",
              "    .dataframe tbody tr th:only-of-type {\n",
              "        vertical-align: middle;\n",
              "    }\n",
              "\n",
              "    .dataframe tbody tr th {\n",
              "        vertical-align: top;\n",
              "    }\n",
              "\n",
              "    .dataframe thead th {\n",
              "        text-align: right;\n",
              "    }\n",
              "</style>\n",
              "<table border=\"1\" class=\"dataframe\">\n",
              "  <thead>\n",
              "    <tr style=\"text-align: right;\">\n",
              "      <th></th>\n",
              "      <th>customer_zip_code_prefix</th>\n",
              "      <th>review_score</th>\n",
              "      <th>pedido_dia</th>\n",
              "    </tr>\n",
              "  </thead>\n",
              "  <tbody>\n",
              "    <tr>\n",
              "      <th>count</th>\n",
              "      <td>57420.000000</td>\n",
              "      <td>57420.0</td>\n",
              "      <td>57420.000000</td>\n",
              "    </tr>\n",
              "    <tr>\n",
              "      <th>mean</th>\n",
              "      <td>34595.183699</td>\n",
              "      <td>5.0</td>\n",
              "      <td>3.738541</td>\n",
              "    </tr>\n",
              "    <tr>\n",
              "      <th>std</th>\n",
              "      <td>29950.129124</td>\n",
              "      <td>0.0</td>\n",
              "      <td>1.969471</td>\n",
              "    </tr>\n",
              "    <tr>\n",
              "      <th>min</th>\n",
              "      <td>1004.000000</td>\n",
              "      <td>5.0</td>\n",
              "      <td>1.000000</td>\n",
              "    </tr>\n",
              "    <tr>\n",
              "      <th>25%</th>\n",
              "      <td>11013.000000</td>\n",
              "      <td>5.0</td>\n",
              "      <td>2.000000</td>\n",
              "    </tr>\n",
              "    <tr>\n",
              "      <th>50%</th>\n",
              "      <td>23065.000000</td>\n",
              "      <td>5.0</td>\n",
              "      <td>4.000000</td>\n",
              "    </tr>\n",
              "    <tr>\n",
              "      <th>75%</th>\n",
              "      <td>58032.250000</td>\n",
              "      <td>5.0</td>\n",
              "      <td>5.000000</td>\n",
              "    </tr>\n",
              "    <tr>\n",
              "      <th>max</th>\n",
              "      <td>99980.000000</td>\n",
              "      <td>5.0</td>\n",
              "      <td>7.000000</td>\n",
              "    </tr>\n",
              "  </tbody>\n",
              "</table>\n",
              "</div>"
            ],
            "text/plain": [
              "       customer_zip_code_prefix  review_score    pedido_dia\n",
              "count              57420.000000       57420.0  57420.000000\n",
              "mean               34595.183699           5.0      3.738541\n",
              "std                29950.129124           0.0      1.969471\n",
              "min                 1004.000000           5.0      1.000000\n",
              "25%                11013.000000           5.0      2.000000\n",
              "50%                23065.000000           5.0      4.000000\n",
              "75%                58032.250000           5.0      5.000000\n",
              "max                99980.000000           5.0      7.000000"
            ]
          },
          "metadata": {
            "tags": []
          },
          "execution_count": 79
        }
      ]
    },
    {
      "cell_type": "markdown",
      "metadata": {
        "id": "NRMF1ePxmqzn",
        "colab_type": "text"
      },
      "source": [
        "Iremos tentar os passos anteriores, agora de outro modo:"
      ]
    },
    {
      "cell_type": "code",
      "metadata": {
        "id": "pgeQ0U8bjtNO",
        "colab_type": "code",
        "colab": {}
      },
      "source": [
        "df = pd.DataFrame()"
      ],
      "execution_count": 0,
      "outputs": []
    },
    {
      "cell_type": "code",
      "metadata": {
        "id": "jbr2n1YmkFhW",
        "colab_type": "code",
        "colab": {}
      },
      "source": [
        "score = []"
      ],
      "execution_count": 0,
      "outputs": []
    },
    {
      "cell_type": "code",
      "metadata": {
        "id": "w7ML7mi3kI-U",
        "colab_type": "code",
        "colab": {}
      },
      "source": [
        "for row in moradia_nota_max['review_score']:\n",
        " score.append(row)"
      ],
      "execution_count": 0,
      "outputs": []
    },
    {
      "cell_type": "code",
      "metadata": {
        "id": "qu409WukkMio",
        "colab_type": "code",
        "colab": {
          "base_uri": "https://localhost:8080/",
          "height": 221
        },
        "outputId": "b64fb3bd-fafa-469c-bdd6-5fe7516c07f9"
      },
      "source": [
        "pd.Series(score)"
      ],
      "execution_count": 91,
      "outputs": [
        {
          "output_type": "execute_result",
          "data": {
            "text/plain": [
              "0        5\n",
              "1        5\n",
              "2        5\n",
              "3        5\n",
              "4        5\n",
              "        ..\n",
              "57415    5\n",
              "57416    5\n",
              "57417    5\n",
              "57418    5\n",
              "57419    5\n",
              "Length: 57420, dtype: int64"
            ]
          },
          "metadata": {
            "tags": []
          },
          "execution_count": 91
        }
      ]
    },
    {
      "cell_type": "code",
      "metadata": {
        "id": "hh3YQ0jjkOKr",
        "colab_type": "code",
        "colab": {}
      },
      "source": [
        "df['score'] = score"
      ],
      "execution_count": 0,
      "outputs": []
    },
    {
      "cell_type": "code",
      "metadata": {
        "id": "bLAhCevJkRMM",
        "colab_type": "code",
        "colab": {
          "base_uri": "https://localhost:8080/",
          "height": 204
        },
        "outputId": "1280acbd-85c4-4592-92d2-1d9d28173bdb"
      },
      "source": [
        "df.head()"
      ],
      "execution_count": 93,
      "outputs": [
        {
          "output_type": "execute_result",
          "data": {
            "text/html": [
              "<div>\n",
              "<style scoped>\n",
              "    .dataframe tbody tr th:only-of-type {\n",
              "        vertical-align: middle;\n",
              "    }\n",
              "\n",
              "    .dataframe tbody tr th {\n",
              "        vertical-align: top;\n",
              "    }\n",
              "\n",
              "    .dataframe thead th {\n",
              "        text-align: right;\n",
              "    }\n",
              "</style>\n",
              "<table border=\"1\" class=\"dataframe\">\n",
              "  <thead>\n",
              "    <tr style=\"text-align: right;\">\n",
              "      <th></th>\n",
              "      <th>score</th>\n",
              "    </tr>\n",
              "  </thead>\n",
              "  <tbody>\n",
              "    <tr>\n",
              "      <th>0</th>\n",
              "      <td>5</td>\n",
              "    </tr>\n",
              "    <tr>\n",
              "      <th>1</th>\n",
              "      <td>5</td>\n",
              "    </tr>\n",
              "    <tr>\n",
              "      <th>2</th>\n",
              "      <td>5</td>\n",
              "    </tr>\n",
              "    <tr>\n",
              "      <th>3</th>\n",
              "      <td>5</td>\n",
              "    </tr>\n",
              "    <tr>\n",
              "      <th>4</th>\n",
              "      <td>5</td>\n",
              "    </tr>\n",
              "  </tbody>\n",
              "</table>\n",
              "</div>"
            ],
            "text/plain": [
              "   score\n",
              "0      5\n",
              "1      5\n",
              "2      5\n",
              "3      5\n",
              "4      5"
            ]
          },
          "metadata": {
            "tags": []
          },
          "execution_count": 93
        }
      ]
    },
    {
      "cell_type": "code",
      "metadata": {
        "id": "fkQeFquWjAOB",
        "colab_type": "code",
        "colab": {}
      },
      "source": [
        "city = []"
      ],
      "execution_count": 0,
      "outputs": []
    },
    {
      "cell_type": "code",
      "metadata": {
        "id": "K0xGopc9kivo",
        "colab_type": "code",
        "colab": {}
      },
      "source": [
        "for row in moradia_nota_max['customer_city']:\n",
        "    city.append(row)"
      ],
      "execution_count": 0,
      "outputs": []
    },
    {
      "cell_type": "code",
      "metadata": {
        "id": "J0BZVBXdke6g",
        "colab_type": "code",
        "colab": {
          "base_uri": "https://localhost:8080/",
          "height": 221
        },
        "outputId": "7f893a3c-0d8d-42c9-8b9d-0af0b2e994ab"
      },
      "source": [
        "pd.Series(city)"
      ],
      "execution_count": 96,
      "outputs": [
        {
          "output_type": "execute_result",
          "data": {
            "text/plain": [
              "0        sao bernardo do campo\n",
              "1                    sao paulo\n",
              "2              mogi das cruzes\n",
              "3                     campinas\n",
              "4               jaragua do sul\n",
              "                 ...          \n",
              "57415                    marau\n",
              "57416                rio claro\n",
              "57417          taboao da serra\n",
              "57418                   canoas\n",
              "57419                    cotia\n",
              "Length: 57420, dtype: object"
            ]
          },
          "metadata": {
            "tags": []
          },
          "execution_count": 96
        }
      ]
    },
    {
      "cell_type": "code",
      "metadata": {
        "id": "8xscWqh_ks2s",
        "colab_type": "code",
        "colab": {}
      },
      "source": [
        "df['city'] = city"
      ],
      "execution_count": 0,
      "outputs": []
    },
    {
      "cell_type": "code",
      "metadata": {
        "id": "SETidYkPkyNL",
        "colab_type": "code",
        "colab": {
          "base_uri": "https://localhost:8080/",
          "height": 204
        },
        "outputId": "1e05a8ce-45ba-43d4-bf57-ef7391fa7437"
      },
      "source": [
        "df.head()"
      ],
      "execution_count": 98,
      "outputs": [
        {
          "output_type": "execute_result",
          "data": {
            "text/html": [
              "<div>\n",
              "<style scoped>\n",
              "    .dataframe tbody tr th:only-of-type {\n",
              "        vertical-align: middle;\n",
              "    }\n",
              "\n",
              "    .dataframe tbody tr th {\n",
              "        vertical-align: top;\n",
              "    }\n",
              "\n",
              "    .dataframe thead th {\n",
              "        text-align: right;\n",
              "    }\n",
              "</style>\n",
              "<table border=\"1\" class=\"dataframe\">\n",
              "  <thead>\n",
              "    <tr style=\"text-align: right;\">\n",
              "      <th></th>\n",
              "      <th>score</th>\n",
              "      <th>city</th>\n",
              "    </tr>\n",
              "  </thead>\n",
              "  <tbody>\n",
              "    <tr>\n",
              "      <th>0</th>\n",
              "      <td>5</td>\n",
              "      <td>sao bernardo do campo</td>\n",
              "    </tr>\n",
              "    <tr>\n",
              "      <th>1</th>\n",
              "      <td>5</td>\n",
              "      <td>sao paulo</td>\n",
              "    </tr>\n",
              "    <tr>\n",
              "      <th>2</th>\n",
              "      <td>5</td>\n",
              "      <td>mogi das cruzes</td>\n",
              "    </tr>\n",
              "    <tr>\n",
              "      <th>3</th>\n",
              "      <td>5</td>\n",
              "      <td>campinas</td>\n",
              "    </tr>\n",
              "    <tr>\n",
              "      <th>4</th>\n",
              "      <td>5</td>\n",
              "      <td>jaragua do sul</td>\n",
              "    </tr>\n",
              "  </tbody>\n",
              "</table>\n",
              "</div>"
            ],
            "text/plain": [
              "   score                   city\n",
              "0      5  sao bernardo do campo\n",
              "1      5              sao paulo\n",
              "2      5        mogi das cruzes\n",
              "3      5               campinas\n",
              "4      5         jaragua do sul"
            ]
          },
          "metadata": {
            "tags": []
          },
          "execution_count": 98
        }
      ]
    },
    {
      "cell_type": "code",
      "metadata": {
        "id": "yJaeNo7hlHQ7",
        "colab_type": "code",
        "colab": {
          "base_uri": "https://localhost:8080/",
          "height": 34
        },
        "outputId": "1b5ba5b5-074e-4841-ed19-b30b3f780740"
      },
      "source": [
        "df.groupby('score')"
      ],
      "execution_count": 100,
      "outputs": [
        {
          "output_type": "execute_result",
          "data": {
            "text/plain": [
              "<pandas.core.groupby.generic.DataFrameGroupBy object at 0x7fbd42531d30>"
            ]
          },
          "metadata": {
            "tags": []
          },
          "execution_count": 100
        }
      ]
    },
    {
      "cell_type": "code",
      "metadata": {
        "id": "PULCHCKClIAv",
        "colab_type": "code",
        "colab": {
          "base_uri": "https://localhost:8080/",
          "height": 51
        },
        "outputId": "31148cfa-f89a-4d2e-9631-bd251acdd764"
      },
      "source": [
        "df['score'].value_counts()"
      ],
      "execution_count": 101,
      "outputs": [
        {
          "output_type": "execute_result",
          "data": {
            "text/plain": [
              "5    57420\n",
              "Name: score, dtype: int64"
            ]
          },
          "metadata": {
            "tags": []
          },
          "execution_count": 101
        }
      ]
    },
    {
      "cell_type": "code",
      "metadata": {
        "id": "JGCsyKEGlIFZ",
        "colab_type": "code",
        "colab": {
          "base_uri": "https://localhost:8080/",
          "height": 297
        },
        "outputId": "34138759-86cb-44e4-e0f6-5f183c10fbfd"
      },
      "source": [
        "df.describe()"
      ],
      "execution_count": 102,
      "outputs": [
        {
          "output_type": "execute_result",
          "data": {
            "text/html": [
              "<div>\n",
              "<style scoped>\n",
              "    .dataframe tbody tr th:only-of-type {\n",
              "        vertical-align: middle;\n",
              "    }\n",
              "\n",
              "    .dataframe tbody tr th {\n",
              "        vertical-align: top;\n",
              "    }\n",
              "\n",
              "    .dataframe thead th {\n",
              "        text-align: right;\n",
              "    }\n",
              "</style>\n",
              "<table border=\"1\" class=\"dataframe\">\n",
              "  <thead>\n",
              "    <tr style=\"text-align: right;\">\n",
              "      <th></th>\n",
              "      <th>score</th>\n",
              "    </tr>\n",
              "  </thead>\n",
              "  <tbody>\n",
              "    <tr>\n",
              "      <th>count</th>\n",
              "      <td>57420.0</td>\n",
              "    </tr>\n",
              "    <tr>\n",
              "      <th>mean</th>\n",
              "      <td>5.0</td>\n",
              "    </tr>\n",
              "    <tr>\n",
              "      <th>std</th>\n",
              "      <td>0.0</td>\n",
              "    </tr>\n",
              "    <tr>\n",
              "      <th>min</th>\n",
              "      <td>5.0</td>\n",
              "    </tr>\n",
              "    <tr>\n",
              "      <th>25%</th>\n",
              "      <td>5.0</td>\n",
              "    </tr>\n",
              "    <tr>\n",
              "      <th>50%</th>\n",
              "      <td>5.0</td>\n",
              "    </tr>\n",
              "    <tr>\n",
              "      <th>75%</th>\n",
              "      <td>5.0</td>\n",
              "    </tr>\n",
              "    <tr>\n",
              "      <th>max</th>\n",
              "      <td>5.0</td>\n",
              "    </tr>\n",
              "  </tbody>\n",
              "</table>\n",
              "</div>"
            ],
            "text/plain": [
              "         score\n",
              "count  57420.0\n",
              "mean       5.0\n",
              "std        0.0\n",
              "min        5.0\n",
              "25%        5.0\n",
              "50%        5.0\n",
              "75%        5.0\n",
              "max        5.0"
            ]
          },
          "metadata": {
            "tags": []
          },
          "execution_count": 102
        }
      ]
    },
    {
      "cell_type": "code",
      "metadata": {
        "id": "B0eCPpmllIIM",
        "colab_type": "code",
        "colab": {
          "base_uri": "https://localhost:8080/",
          "height": 221
        },
        "outputId": "5e626cad-5e3c-4746-8bc8-022438a47469"
      },
      "source": [
        "df['city'].value_counts()"
      ],
      "execution_count": 103,
      "outputs": [
        {
          "output_type": "execute_result",
          "data": {
            "text/plain": [
              "sao paulo                      9324\n",
              "rio de janeiro                 3812\n",
              "belo horizonte                 1616\n",
              "brasilia                       1207\n",
              "curitiba                        944\n",
              "                               ... \n",
              "vale do sol                       1\n",
              "santo antonio do descoberto       1\n",
              "sao valentim                      1\n",
              "felisburgo                        1\n",
              "sao benedito do sul               1\n",
              "Name: city, Length: 3464, dtype: int64"
            ]
          },
          "metadata": {
            "tags": []
          },
          "execution_count": 103
        }
      ]
    },
    {
      "cell_type": "code",
      "metadata": {
        "id": "B8n9fLKolYnb",
        "colab_type": "code",
        "colab": {
          "base_uri": "https://localhost:8080/",
          "height": 34
        },
        "outputId": "f9adda8e-445d-4268-fe8f-d092d2079eea"
      },
      "source": [
        "city_score = df[df['score'] > 4]\n",
        "city_score.shape"
      ],
      "execution_count": 105,
      "outputs": [
        {
          "output_type": "execute_result",
          "data": {
            "text/plain": [
              "(57420, 2)"
            ]
          },
          "metadata": {
            "tags": []
          },
          "execution_count": 105
        }
      ]
    },
    {
      "cell_type": "code",
      "metadata": {
        "id": "MJht35CRlYki",
        "colab_type": "code",
        "colab": {
          "base_uri": "https://localhost:8080/",
          "height": 221
        },
        "outputId": "2f3f295e-b8fd-4e6d-a81b-535d6624c8a9"
      },
      "source": [
        "#aqui verificamos a porcentagem de cidades que contêm maior número de moradores que deram review 5\n",
        "city_score['city'].value_counts(city_score['score'].sum()/df['score'].mean() ) *100"
      ],
      "execution_count": 106,
      "outputs": [
        {
          "output_type": "execute_result",
          "data": {
            "text/plain": [
              "sao paulo                      16.238245\n",
              "rio de janeiro                  6.638802\n",
              "belo horizonte                  2.814350\n",
              "brasilia                        2.102055\n",
              "curitiba                        1.644026\n",
              "                                 ...    \n",
              "vale do sol                     0.001742\n",
              "santo antonio do descoberto     0.001742\n",
              "sao valentim                    0.001742\n",
              "felisburgo                      0.001742\n",
              "sao benedito do sul             0.001742\n",
              "Name: city, Length: 3464, dtype: float64"
            ]
          },
          "metadata": {
            "tags": []
          },
          "execution_count": 106
        }
      ]
    },
    {
      "cell_type": "markdown",
      "metadata": {
        "id": "QW5fe57pmOqC",
        "colab_type": "text"
      },
      "source": [
        "Pelo que vemos acima, a resposta à pergunta: \"onde moram os consumidores que dão as maiores notas de review?\", vemos que a maioria se concentra em São Paulo (16%), enquanto que 6% no Rio de Janeiro, e o restante está distribuído.\n",
        "\n",
        "E se analisarmos por estado?"
      ]
    },
    {
      "cell_type": "code",
      "metadata": {
        "id": "-in14V9klYiL",
        "colab_type": "code",
        "colab": {}
      },
      "source": [
        "_merge3[['customer_state', 'review_score']]\n",
        "nota_max = _merge3['review_score'] == 5\n",
        "estado = _merge3['customer_state']\n",
        "estado_nota_max = _merge3[nota_max & estado]"
      ],
      "execution_count": 0,
      "outputs": []
    },
    {
      "cell_type": "code",
      "metadata": {
        "id": "62ejyjKGvEtc",
        "colab_type": "code",
        "colab": {
          "base_uri": "https://localhost:8080/",
          "height": 493
        },
        "outputId": "632b4ef2-2de3-4161-ecfd-40f398accb8c"
      },
      "source": [
        "estado_nota_max['customer_state'].value_counts()"
      ],
      "execution_count": 117,
      "outputs": [
        {
          "output_type": "execute_result",
          "data": {
            "text/plain": [
              "SP    25166\n",
              "RJ     6953\n",
              "MG     6861\n",
              "RS     3208\n",
              "PR     3022\n",
              "SC     2060\n",
              "BA     1643\n",
              "DF     1213\n",
              "ES     1111\n",
              "GO     1110\n",
              "PE      923\n",
              "CE      673\n",
              "MT      512\n",
              "PA      487\n",
              "MS      430\n",
              "MA      353\n",
              "PB      302\n",
              "RN      280\n",
              "PI      255\n",
              "AL      197\n",
              "SE      177\n",
              "TO      153\n",
              "RO      143\n",
              "AM       89\n",
              "AC       45\n",
              "AP       34\n",
              "RR       20\n",
              "Name: customer_state, dtype: int64"
            ]
          },
          "metadata": {
            "tags": []
          },
          "execution_count": 117
        }
      ]
    },
    {
      "cell_type": "code",
      "metadata": {
        "id": "J2d6237EvWgS",
        "colab_type": "code",
        "colab": {
          "base_uri": "https://localhost:8080/",
          "height": 493
        },
        "outputId": "63c9b655-6ef2-4477-ae37-8652af4eeb2c"
      },
      "source": [
        "#deixando em porcentagem\n",
        "estado_nota_max['customer_state'].value_counts(normalize=True) * 100"
      ],
      "execution_count": 118,
      "outputs": [
        {
          "output_type": "execute_result",
          "data": {
            "text/plain": [
              "SP    43.827935\n",
              "RJ    12.109021\n",
              "MG    11.948798\n",
              "RS     5.586904\n",
              "PR     5.262975\n",
              "SC     3.587600\n",
              "BA     2.861372\n",
              "DF     2.112504\n",
              "ES     1.934866\n",
              "GO     1.933124\n",
              "PE     1.607454\n",
              "CE     1.172065\n",
              "MT     0.891675\n",
              "PA     0.848137\n",
              "MS     0.748868\n",
              "MA     0.614768\n",
              "PB     0.525949\n",
              "RN     0.487635\n",
              "PI     0.444096\n",
              "AL     0.343086\n",
              "SE     0.308255\n",
              "TO     0.266458\n",
              "RO     0.249042\n",
              "AM     0.154998\n",
              "AC     0.078370\n",
              "AP     0.059213\n",
              "RR     0.034831\n",
              "Name: customer_state, dtype: float64"
            ]
          },
          "metadata": {
            "tags": []
          },
          "execution_count": 118
        }
      ]
    },
    {
      "cell_type": "code",
      "metadata": {
        "id": "GOrad2f_vdu9",
        "colab_type": "code",
        "colab": {
          "base_uri": "https://localhost:8080/",
          "height": 493
        },
        "outputId": "0e409650-572b-4d4b-d973-307e5bd76b7a"
      },
      "source": [
        "#agora verificando qual era a porcentagem original de consumidores por estado, no total\n",
        "_merge3['customer_state'].value_counts(normalize=True) * 100"
      ],
      "execution_count": 120,
      "outputs": [
        {
          "output_type": "execute_result",
          "data": {
            "text/plain": [
              "SP    41.967\n",
              "RJ    12.930\n",
              "MG    11.706\n",
              "RS     5.507\n",
              "PR     5.064\n",
              "SC     3.651\n",
              "BA     3.398\n",
              "DF     2.160\n",
              "ES     2.043\n",
              "GO     2.037\n",
              "PE     1.665\n",
              "CE     1.339\n",
              "PA     0.982\n",
              "MT     0.910\n",
              "MA     0.751\n",
              "MS     0.726\n",
              "PB     0.537\n",
              "PI     0.496\n",
              "RN     0.487\n",
              "AL     0.417\n",
              "SE     0.350\n",
              "TO     0.280\n",
              "RO     0.253\n",
              "AM     0.149\n",
              "AC     0.081\n",
              "AP     0.068\n",
              "RR     0.046\n",
              "Name: customer_state, dtype: float64"
            ]
          },
          "metadata": {
            "tags": []
          },
          "execution_count": 120
        }
      ]
    },
    {
      "cell_type": "markdown",
      "metadata": {
        "id": "XsCGHDFLvuRF",
        "colab_type": "text"
      },
      "source": [
        "Alternando a verificação para estado, vemos que se repete o mesmo que com as cidades, as proporções praticamente se mantêm, o que parece indicar não haver relação entre a geolocalização e a nota concedida pelos consumidores.\n"
      ]
    }
  ]
}